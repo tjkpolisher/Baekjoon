{
 "cells": [
  {
   "cell_type": "code",
   "execution_count": null,
   "metadata": {},
   "outputs": [],
   "source": [
    "# 2033: 반올림\n",
    "## 1. 정수 N 입력\n",
    "## 2. [반복문]\n",
    "## 2-1. 일의 자리부터 시작해 가장 큰 자릿수보다 하나 낮은 자릿수에서 계속 반올림\n",
    "## 3. 연산 결과 출력\n",
    "import math\n",
    "N = int(input())\n",
    "try:\n",
    "    j = int(math.log10(N)) + 1 # N의 자릿수\n",
    "    for i in range(1, j):\n",
    "        if int(str(N)[-i]) == 5:\n",
    "            N = N + (10 ** (i-1)) * 5\n",
    "        else:\n",
    "            N = round(N, -i)\n",
    "except ValueError:\n",
    "    pass\n",
    "print(N)"
   ]
  },
  {
   "cell_type": "code",
   "execution_count": null,
   "metadata": {},
   "outputs": [],
   "source": [
    "# 2037: 문자메시지\n",
    "# 특이사항: 다국어(영어, 한국어 번역)\n",
    "## 1. p, w 입력\n",
    "### p는 버튼을 한번 누르는데 걸리는 시간이고, w는 AC와 같은, 같은 숫자인 문자를 연속으로 찍기 위해 기다리는 시간\n",
    "## 2. 메시지로 타이핑할 문자열 입력\n",
    "## 3. [반복문] 문자열의 각 문자 식별\n",
    "## 3-1. 공백이면 1번 입력\n",
    "## 3-2. 이전 문자와 같은 숫자키에 할당된 문자는 대기 시간 적용\n",
    "## 3-3. 그 외의 경우 숫자키에 할당된 문자 입력 시간 적용\n",
    "## 4. 메시지를 적는 데 걸리는 총 시간 출력\n",
    "p, w = map(int, input().split())\n",
    "message = input()\n",
    "keys = list(\" ABCDEFGHIJKLMNOPQRSTUVWXYZ\")\n",
    "values = [1] + [2] * 3 + [3] * 3 + [4] * 3 + [5] * 3 + [6] * 3 + [7] * 4 + [8] * 3 + [9] * 4\n",
    "buttons = {keys[i]:values[i] for i in range(len(keys))}\n",
    "\n",
    "key_button = [list(keys[0]),keys[1:4], keys[4:7], keys[7:10],\n",
    "              keys[10:13], keys[13:16], keys[16:20],\n",
    "              keys[20:23], keys[23:27]]\n",
    "keypad = {i + 1:key_button[i] for i in range(9)}\n",
    "\n",
    "t = 0\n",
    "for i, m in enumerate(message):\n",
    "    button = buttons[m]\n",
    "    if i > 0 and button == buttons[message[i-1]] and button != 1:\n",
    "        ## 같은 버튼을 여러 번 누를 때 적용하되, 공백을 누르는 1번 버튼에는 조건 적용하지 않음\n",
    "        t += w\n",
    "    idx = keypad[button].index(m)\n",
    "    t += p * (idx + 1)\n",
    "print(t)"
   ]
  },
  {
   "cell_type": "code",
   "execution_count": null,
   "metadata": {},
   "outputs": [],
   "source": []
  }
 ],
 "metadata": {
  "kernelspec": {
   "display_name": "base",
   "language": "python",
   "name": "python3"
  },
  "language_info": {
   "codemirror_mode": {
    "name": "ipython",
    "version": 3
   },
   "file_extension": ".py",
   "mimetype": "text/x-python",
   "name": "python",
   "nbconvert_exporter": "python",
   "pygments_lexer": "ipython3",
   "version": "3.9.13"
  }
 },
 "nbformat": 4,
 "nbformat_minor": 2
}

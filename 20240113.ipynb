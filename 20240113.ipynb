{
 "cells": [
  {
   "cell_type": "code",
   "execution_count": 2,
   "metadata": {},
   "outputs": [
    {
     "name": "stdout",
     "output_type": "stream",
     "text": [
      "6\n",
      "72\n"
     ]
    }
   ],
   "source": [
    "# 2609: 최대공약수와 최소공배수\n",
    "## 1. 두 자연수 입력\n",
    "## 2. 최대공약수 계산\n",
    "## 3. 각 수를 최대공약수로 나눈 후, 그 두 수와 최대공약수를 곱해 최소공배수 계산\n",
    "from math import gcd\n",
    "n1, n2 = map(int, input().split())\n",
    "g = gcd(n1, n2)\n",
    "ans = (n1 // g) * (n2 // g) * g\n",
    "print(g)\n",
    "print(ans)"
   ]
  },
  {
   "cell_type": "code",
   "execution_count": null,
   "metadata": {},
   "outputs": [],
   "source": []
  }
 ],
 "metadata": {
  "kernelspec": {
   "display_name": "base",
   "language": "python",
   "name": "python3"
  },
  "language_info": {
   "codemirror_mode": {
    "name": "ipython",
    "version": 3
   },
   "file_extension": ".py",
   "mimetype": "text/x-python",
   "name": "python",
   "nbconvert_exporter": "python",
   "pygments_lexer": "ipython3",
   "version": "3.9.13"
  }
 },
 "nbformat": 4,
 "nbformat_minor": 2
}

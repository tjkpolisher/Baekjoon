{
 "cells": [
  {
   "cell_type": "code",
   "execution_count": 17,
   "metadata": {},
   "outputs": [
    {
     "name": "stdout",
     "output_type": "stream",
     "text": [
      "7\n",
      "8\n",
      "10\n",
      "13\n",
      "19\n",
      "20\n",
      "23\n"
     ]
    }
   ],
   "source": [
    "# 2309: 일곱 난쟁이\n",
    "# 특이사항: 스페셜 저지\n",
    "## 1. 아홉 개의 줄에 걸쳐 난쟁이들의 키 입력\n",
    "## 2. 난쟁이의 키의 합이 100이 되는 일곱 정수 선정\n",
    "## 3. 일곱 정수 선정 뒤 오름차순으로 정렬(정답이 여러 가지인 경우에는 아무거나 출력)\n",
    "from itertools import combinations\n",
    "dwarves = []\n",
    "for _ in range(9):\n",
    "    dwarves.append(int(input()))\n",
    "net_height = sum(dwarves)\n",
    "combs = list(combinations(dwarves, 2))\n",
    "for comb in combs:\n",
    "    if sum(comb) == net_height - 100:\n",
    "        ans = list(comb)\n",
    "for i in ans:\n",
    "    dwarves.remove(i)\n",
    "dwarves.sort()\n",
    "for d in dwarves:\n",
    "    print(d)"
   ]
  },
  {
   "cell_type": "code",
   "execution_count": null,
   "metadata": {},
   "outputs": [],
   "source": []
  }
 ],
 "metadata": {
  "kernelspec": {
   "display_name": "base",
   "language": "python",
   "name": "python3"
  },
  "language_info": {
   "codemirror_mode": {
    "name": "ipython",
    "version": 3
   },
   "file_extension": ".py",
   "mimetype": "text/x-python",
   "name": "python",
   "nbconvert_exporter": "python",
   "pygments_lexer": "ipython3",
   "version": "3.9.13"
  }
 },
 "nbformat": 4,
 "nbformat_minor": 2
}

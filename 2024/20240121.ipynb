{
 "cells": [
  {
   "cell_type": "code",
   "execution_count": 2,
   "metadata": {},
   "outputs": [
    {
     "name": "stdout",
     "output_type": "stream",
     "text": [
      "4 2 5 3 1 "
     ]
    }
   ],
   "source": [
    "# 2605: 줄 세우기\n",
    "## 1. 학생 수 입력\n",
    "## 2. 줄을 선 차례대로 학생들이 뽑은 번호 입력\n",
    "## 3. [반복문]\n",
    "## 3-1. 첫 번째 학생은 무조건 0번을 뽑아 맨 앞에 배치\n",
    "## 3-2. 이후 학생은 뽑은 번호 수만큼 원래 인덱스에서 빼서 앞으로 배치\n",
    "## 4. 배치된 순서대로 공백과 함께 출력\n",
    "n = int(input())\n",
    "numbers = list(map(int, input().split()))\n",
    "queue = []\n",
    "for i, num in enumerate(numbers):\n",
    "    if i == 0:\n",
    "        queue.append(i + 1)\n",
    "    else:\n",
    "        queue.insert(i - num, i + 1)\n",
    "for j in queue:\n",
    "    print(j, end=' ')"
   ]
  },
  {
   "cell_type": "code",
   "execution_count": null,
   "metadata": {},
   "outputs": [],
   "source": []
  }
 ],
 "metadata": {
  "kernelspec": {
   "display_name": "base",
   "language": "python",
   "name": "python3"
  },
  "language_info": {
   "codemirror_mode": {
    "name": "ipython",
    "version": 3
   },
   "file_extension": ".py",
   "mimetype": "text/x-python",
   "name": "python",
   "nbconvert_exporter": "python",
   "pygments_lexer": "ipython3",
   "version": "3.9.13"
  }
 },
 "nbformat": 4,
 "nbformat_minor": 2
}

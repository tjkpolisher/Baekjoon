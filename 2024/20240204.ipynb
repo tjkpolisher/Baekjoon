{
 "cells": [
  {
   "cell_type": "code",
   "execution_count": 1,
   "metadata": {},
   "outputs": [
    {
     "name": "stdout",
     "output_type": "stream",
     "text": [
      "2\n",
      "4\n",
      "5\n"
     ]
    }
   ],
   "source": [
    "# 9094: 수학적 호기심\n",
    "# 특이사항: 다국어(영어)(한국어 번역), 제한 시간 1초\n",
    "## 1. 테스트 케이스의 개수 T 입력\n",
    "## 2. [반복문]\n",
    "## 2-1. n, m 입력\n",
    "## 2-2. 0 < a < b < n인 정수 쌍 (a, b) 중 (a^2+b^2+m)/(ab)가 정수이면(나머지가 0이면) 카운터에 1 적립\n",
    "## 2-3. 순서쌍의 개수 출력\n",
    "T = int(input())\n",
    "for _ in range(T):\n",
    "    n, m = map(int, input().split())\n",
    "    cnt = 0\n",
    "    for b in range(2, n):\n",
    "        for a in range(1, b):\n",
    "            if (a ** 2 + b ** 2 + m) % (a * b) == 0:\n",
    "                cnt += 1\n",
    "    print(cnt)"
   ]
  },
  {
   "cell_type": "code",
   "execution_count": null,
   "metadata": {},
   "outputs": [],
   "source": []
  }
 ],
 "metadata": {
  "kernelspec": {
   "display_name": "base",
   "language": "python",
   "name": "python3"
  },
  "language_info": {
   "codemirror_mode": {
    "name": "ipython",
    "version": 3
   },
   "file_extension": ".py",
   "mimetype": "text/x-python",
   "name": "python",
   "nbconvert_exporter": "python",
   "pygments_lexer": "ipython3",
   "version": "3.9.13"
  }
 },
 "nbformat": 4,
 "nbformat_minor": 2
}

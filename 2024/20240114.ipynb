{
 "cells": [
  {
   "cell_type": "code",
   "execution_count": 6,
   "metadata": {},
   "outputs": [
    {
     "name": "stdout",
     "output_type": "stream",
     "text": [
      "2\n"
     ]
    }
   ],
   "source": [
    "# 2246: 콘도 선정\n",
    "# 특이사항: 다국어(영어, 한국어 번역)\n",
    "## 1. 콘도의 개수 N 입력\n",
    "## 2. 바닷가로부터의 거리 D와 콘도의 숙박비 C 입력\n",
    "## 3. D와 C의 제곱합을 리스트에 저장\n",
    "## 4. 최소 제곱합의 개수 출력\n",
    "N = int(input())\n",
    "condos = []\n",
    "for i in range(N):\n",
    "    D, C = map(int, input().split())\n",
    "    condos.append([D, C])\n",
    "condos.sort(key=lambda x:(x[0], x[1]))\n",
    "\n",
    "cost = 10001\n",
    "answer = 0\n",
    "for condo in condos:\n",
    "    current = condo[1]\n",
    "    if current < cost:\n",
    "        cost = current\n",
    "        answer += 1\n",
    "print(answer)"
   ]
  },
  {
   "cell_type": "code",
   "execution_count": null,
   "metadata": {},
   "outputs": [],
   "source": []
  }
 ],
 "metadata": {
  "kernelspec": {
   "display_name": "base",
   "language": "python",
   "name": "python3"
  },
  "language_info": {
   "codemirror_mode": {
    "name": "ipython",
    "version": 3
   },
   "file_extension": ".py",
   "mimetype": "text/x-python",
   "name": "python",
   "nbconvert_exporter": "python",
   "pygments_lexer": "ipython3",
   "version": "3.9.13"
  }
 },
 "nbformat": 4,
 "nbformat_minor": 2
}

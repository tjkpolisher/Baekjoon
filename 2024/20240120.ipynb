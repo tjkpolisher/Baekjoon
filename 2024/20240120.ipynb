{
 "cells": [
  {
   "cell_type": "code",
   "execution_count": null,
   "metadata": {},
   "outputs": [],
   "source": [
    "# 11034: 캥거루 세마리 2\n",
    "# 특이사항: 다국어(베트남어)(한국어 번역)\n",
    "## 0. [반복문] 입력 없으면 종료\n",
    "## 1. 세 캥거루의 초기 위치 A, B, C 입력\n",
    "## 2. 중앙에 있는 캥거루 B로부터 양 옆에 있는 캥거루의 거리 산정\n",
    "## 3. 캥거루 B에 더 가까이 있는 캥거루를 B로부터 1 떨어진 거리로 이동\n",
    "## 4. 횟수에 1을 더함\n",
    "## 5. 더 이상 움직일 수 없으면 루프 종료 후 횟수 출력\n",
    "while True:\n",
    "    try:\n",
    "        A, B, C = map(int, input().split())\n",
    "    except EOFError:\n",
    "        break\n",
    "    cnt = 0\n",
    "    while True:\n",
    "        d1, d2 = B - A, C - B\n",
    "        if d1 == 1 and d2 == 1:\n",
    "            print(cnt)\n",
    "            break\n",
    "        \n",
    "        if d1 >= d2:\n",
    "            C = B - 1\n",
    "            B, C = C, B\n",
    "        else:\n",
    "            A = B + 1\n",
    "            A, B = B, A\n",
    "        cnt += 1"
   ]
  },
  {
   "cell_type": "code",
   "execution_count": 7,
   "metadata": {},
   "outputs": [
    {
     "name": "stdout",
     "output_type": "stream",
     "text": [
      "7\n"
     ]
    }
   ],
   "source": [
    "# 14720: 우유 축제\n",
    "## 1. 우유 가게의 수 N 입력\n",
    "## 2. 우유 거리의 시작부터 끝까지 N개의 정수 입력(0: 딸기우유, 1: 초코우유, 2: 바나나우유)\n",
    "## 3. [반복문] 가게를 이동할 때마다 카운터에 1을 더함.단, 한 번 지나치거나 방문한 가게는 재방문 불가.\n",
    "## 3-1. 가장 가까운 딸기우유 위치로 이동\n",
    "## 3-2. 가장 가까운 초코우유 위치로 이동\n",
    "## 3-3. 가장 가까운 바나나우유 위치로 이동\n",
    "## 3-4. 더 이상 방문할 수 있는 가게가 없을 때까지 딸기-초코-바나나 순으로 이동\n",
    "## 4. 방문할 수 있는 가게가 없으면 카운터 출력\n",
    "N = int(input())\n",
    "milk = list(map(int, input().split()))\n",
    "d = []\n",
    "for i, m in enumerate(milk):\n",
    "    idx = len(d) % 3\n",
    "    if m == idx:\n",
    "        d.append(m)\n",
    "print(len(d))"
   ]
  },
  {
   "cell_type": "code",
   "execution_count": null,
   "metadata": {},
   "outputs": [],
   "source": []
  }
 ],
 "metadata": {
  "kernelspec": {
   "display_name": "base",
   "language": "python",
   "name": "python3"
  },
  "language_info": {
   "codemirror_mode": {
    "name": "ipython",
    "version": 3
   },
   "file_extension": ".py",
   "mimetype": "text/x-python",
   "name": "python",
   "nbconvert_exporter": "python",
   "pygments_lexer": "ipython3",
   "version": "3.9.13"
  }
 },
 "nbformat": 4,
 "nbformat_minor": 2
}

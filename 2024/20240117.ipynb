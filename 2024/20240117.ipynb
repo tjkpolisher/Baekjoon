{
 "cells": [
  {
   "cell_type": "code",
   "execution_count": 2,
   "metadata": {},
   "outputs": [
    {
     "name": "stdout",
     "output_type": "stream",
     "text": [
      "0 0 0 0 0 0 0 38\n",
      "38 0 0 0 0 0 0 0\n",
      "4 7 6 4 7 4 5 1\n",
      "6 3 4 5 3 6 5 6\n"
     ]
    }
   ],
   "source": [
    "# 2684: 동전 던지기\n",
    "# 특이사항: 다국어(영어, 한국어 번역)\n",
    "## 1. 테스트 케이스의 개수 P 입력\n",
    "## 2. [반복문]\n",
    "## 2-1. 동전을 40번 던진 결과를 나타내는 문자열 입력\n",
    "## 2-2. 0번부터 세 개씩 슬라이스 해서 3-동전수열에 해당하는 8개 케이스 각각의 개수 집계\n",
    "## 2-3. 각 케이스가 몇 개씩 나타났는지를 출력(문제에서 주어진 순서대로 정렬, 공백으로 구분)\n",
    "P = int(input())\n",
    "three_coins = ['TTT', 'TTH', 'THT', 'THH', 'HTT', 'HTH', 'HHT', 'HHH'] # 3-동전수열에 해당하는 각 8개 케이스에 대한 문자열\n",
    "for _ in range(P):\n",
    "    cnt = [0] * 8\n",
    "    case = input()\n",
    "    if case.count('H') == 40:\n",
    "        cnt[-1] = 38\n",
    "    elif case.count('T') == 40:\n",
    "        cnt[0] = 38\n",
    "    else:\n",
    "        for i in range(38):\n",
    "            c = case[i:i + 3]\n",
    "            idx = three_coins.index(c)\n",
    "            cnt[idx] = cnt[idx] + 1\n",
    "    print(cnt[0], cnt[1], cnt[2], cnt[3], cnt[4], cnt[5], cnt[6], cnt[7])"
   ]
  },
  {
   "cell_type": "code",
   "execution_count": null,
   "metadata": {},
   "outputs": [],
   "source": []
  }
 ],
 "metadata": {
  "kernelspec": {
   "display_name": "base",
   "language": "python",
   "name": "python3"
  },
  "language_info": {
   "codemirror_mode": {
    "name": "ipython",
    "version": 3
   },
   "file_extension": ".py",
   "mimetype": "text/x-python",
   "name": "python",
   "nbconvert_exporter": "python",
   "pygments_lexer": "ipython3",
   "version": "3.9.13"
  }
 },
 "nbformat": 4,
 "nbformat_minor": 2
}

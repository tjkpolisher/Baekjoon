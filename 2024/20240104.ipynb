{
 "cells": [
  {
   "cell_type": "code",
   "execution_count": 12,
   "metadata": {},
   "outputs": [
    {
     "name": "stdout",
     "output_type": "stream",
     "text": [
      "A\n"
     ]
    }
   ],
   "source": [
    "# 1672: DNA 해독\n",
    "## 1. 염기 서열 길이 N 입력\n",
    "## 2. 염기서열을 나타내는 길이 N의 문자열 입력\n",
    "## 3. 문자열의 길이가 1이 될 때까지 표를 참고해 제일 끝의 있는 염기서열 변환\n",
    "\"\"\"N = int(input())\n",
    "dna = list(input())\n",
    "dna_dict = {'A':{'A':'A','G':'C','C':'A','T':'G'},\n",
    "            'G':{'A':'C','G':'G','C':'T','T':'A'},\n",
    "            'C':{'A':'A','G':'T','C':'C','T':'G'},\n",
    "            'T':{'A':'G','G':'A','C':'G','T':'T'}}\n",
    "while len(dna) > 1:\n",
    "    end_list = dna[-2:]\n",
    "    rest = dna[:-2]\n",
    "    end = list(dna_dict[end_list[0]][end_list[1]])\n",
    "    dna = rest + end\n",
    "    if len(set(dna)) == 1:\n",
    "        break\n",
    "print(dna[0])\"\"\""
   ]
  },
  {
   "cell_type": "code",
   "execution_count": 13,
   "metadata": {},
   "outputs": [
    {
     "name": "stdout",
     "output_type": "stream",
     "text": [
      "A\n"
     ]
    }
   ],
   "source": [
    "from collections import deque\n",
    "\n",
    "N = int(input())\n",
    "dna = deque(input())\n",
    "dna_dict = {'A': {'A': 'A', 'G': 'C', 'C': 'A', 'T': 'G'},\n",
    "            'G': {'A': 'C', 'G': 'G', 'C': 'T', 'T': 'A'},\n",
    "            'C': {'A': 'A', 'G': 'T', 'C': 'C', 'T': 'G'},\n",
    "            'T': {'A': 'G', 'G': 'A', 'C': 'G', 'T': 'T'}}\n",
    "\n",
    "while len(dna) > 1:\n",
    "    end1 = dna.pop()\n",
    "    end2 = dna.pop()\n",
    "    dna.append(dna_dict[end2][end1])\n",
    "\n",
    "print(dna[0])"
   ]
  },
  {
   "cell_type": "code",
   "execution_count": null,
   "metadata": {},
   "outputs": [],
   "source": []
  }
 ],
 "metadata": {
  "kernelspec": {
   "display_name": "Python 3",
   "language": "python",
   "name": "python3"
  },
  "language_info": {
   "codemirror_mode": {
    "name": "ipython",
    "version": 3
   },
   "file_extension": ".py",
   "mimetype": "text/x-python",
   "name": "python",
   "nbconvert_exporter": "python",
   "pygments_lexer": "ipython3",
   "version": "3.9.7"
  }
 },
 "nbformat": 4,
 "nbformat_minor": 2
}

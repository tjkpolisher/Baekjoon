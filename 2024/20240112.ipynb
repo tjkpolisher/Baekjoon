{
 "cells": [
  {
   "cell_type": "code",
   "execution_count": 3,
   "metadata": {},
   "outputs": [
    {
     "name": "stdout",
     "output_type": "stream",
     "text": [
      "bAt\n",
      "All\n"
     ]
    }
   ],
   "source": [
    "# 2204: 도비의 난독증 테스트\n",
    "# 특이사항: 다국어(영어, 한국어 번역)\n",
    "## 0. [반복문] 마지막 입력에는 0이 주어짐\n",
    "## 1. 정수 n 입력\n",
    "## 2. [반복문]\n",
    "## 2-1. n줄에 걸쳐서 단어 입력 및 소문자로 변환\n",
    "## 2-2. 리스트에 입력\n",
    "## 2-3. 사전 순으로 정렬(오름차순)\n",
    "## 2-4. 가장 앞에 있는 단어 출력\n",
    "while True:\n",
    "    n = int(input())\n",
    "    if n == 0:\n",
    "        break\n",
    "    words = []\n",
    "    words_lower = []\n",
    "    for i in range(n):\n",
    "        s = input()\n",
    "        words.append(s)\n",
    "        words_lower.append(s.lower())\n",
    "    words_sorted = sorted(words_lower)\n",
    "    idx = [words_lower.index(word) for word in words_sorted]\n",
    "    words = [words[i] for i in idx]\n",
    "    print(words[0])"
   ]
  },
  {
   "cell_type": "code",
   "execution_count": null,
   "metadata": {},
   "outputs": [],
   "source": []
  }
 ],
 "metadata": {
  "kernelspec": {
   "display_name": "base",
   "language": "python",
   "name": "python3"
  },
  "language_info": {
   "codemirror_mode": {
    "name": "ipython",
    "version": 3
   },
   "file_extension": ".py",
   "mimetype": "text/x-python",
   "name": "python",
   "nbconvert_exporter": "python",
   "pygments_lexer": "ipython3",
   "version": "3.9.13"
  }
 },
 "nbformat": 4,
 "nbformat_minor": 2
}

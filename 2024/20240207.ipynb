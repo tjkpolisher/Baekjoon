{
 "cells": [
  {
   "cell_type": "code",
   "execution_count": null,
   "metadata": {},
   "outputs": [],
   "source": [
    "# 10817: 세 수\n",
    "nums = list(map(int, input().split()))\n",
    "nums.sort()\n",
    "print(nums[1])"
   ]
  },
  {
   "cell_type": "code",
   "execution_count": null,
   "metadata": {},
   "outputs": [],
   "source": [
    "# 28114: 팀명 정하기\n",
    "## 1. 세 참가자의 해결 문제 개수, 입학 연도, 성씨 입력\n",
    "## 2. [첫번째 방법] 세 참가자의 입학 연도를 100으로 나눈 나머지를 오름차순으로 정렬해서 이어 붙이기(문자열)\n",
    "## 3. [두번째 방법] 세 참가자의 성씨를 영문으로 표기했을 때의 첫 글자를, 해결한 문제가 많은 사람부터 차례대로 나열\n",
    "\n",
    "p1, y1, s1 = input().split()\n",
    "p2, y2, s2 = input().split()\n",
    "p3, y3, s3 = input().split()\n",
    "p = list(map(int, list([p1, p2, p3])))\n",
    "y = list(map(int, list([y1, y2, y3])))\n",
    "s = [s1, s2, s3]\n",
    "\n",
    "name1_list = sorted([str(y_ % 100) for y_ in y])\n",
    "name1 = ''.join(name1_list)\n",
    "\n",
    "name2_list = [[p[i], s[i][0]] for i in range(3)]\n",
    "name2_list.sort(reverse=True, key = lambda x: x[0])\n",
    "n2_list = [str(name2_list[i][1]) for i in range(3)]\n",
    "name2 = ''.join(n2_list)\n",
    "print(name1)\n",
    "print(name2)"
   ]
  },
  {
   "cell_type": "code",
   "execution_count": null,
   "metadata": {},
   "outputs": [],
   "source": []
  }
 ],
 "metadata": {
  "kernelspec": {
   "display_name": "base",
   "language": "python",
   "name": "python3"
  },
  "language_info": {
   "codemirror_mode": {
    "name": "ipython",
    "version": 3
   },
   "file_extension": ".py",
   "mimetype": "text/x-python",
   "name": "python",
   "nbconvert_exporter": "python",
   "pygments_lexer": "ipython3",
   "version": "3.9.13"
  }
 },
 "nbformat": 4,
 "nbformat_minor": 2
}

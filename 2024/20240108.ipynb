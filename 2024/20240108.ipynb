{
 "cells": [
  {
   "cell_type": "code",
   "execution_count": null,
   "metadata": {},
   "outputs": [],
   "source": [
    "# 1952: 달팽이2\n",
    "## 1. 행과 열의 숫자 M, N 입력\n",
    "## 2. 맨 왼쪽 칸에서 오른쪽으로 진행 시작, 지금까지 지나온 칸의 개수 기록\n",
    "## 3. [반복문]\n",
    "## 3-1. 바깥쪽 또는 이미 그려진 칸에 닿으면 시계방향으로 방향 전환 및 꺾은 횟수 1회 추가\n",
    "## 3-2. 바깥쪽 또는 이미 그려진 칸에 닿기 전까지는 다시 직선 방향으로 진행\n",
    "## 3-3. 칸의 개수를 다 충족하면 종료\n",
    "## 4. 선을 꺾은 횟수 출력\n",
    "m, n = map(int,input().split())\n",
    "grid = [[0 for _ in range(n)] for _ in range(m)]\n",
    "direction = {0:[0, 1], 1:[1, 0], 2:[0, -1], 3:[-1, 0]}\n",
    "\n",
    "end = m * n - 2\n",
    "cnt = 0\n",
    "head = 0\n",
    "i, j = 0, 0\n",
    "grid[i][j] = 1\n",
    "\n",
    "while end >= 0:\n",
    "    condi = False\n",
    "    if 0 <= i + direction[head][0] < m and 0 <= j + direction[head][1] < n:\n",
    "        if grid[i + direction[head][0]][j + direction[head][1]] != 1:\n",
    "            grid[i + direction[head][0]][j + direction[head][1]] = 1\n",
    "            i, j = i + direction[head][0], j + direction[head][1]\n",
    "            condi = True\n",
    "    if not condi:\n",
    "        cnt += 1\n",
    "        head = (head + 1) % 4\n",
    "        i, j = i + direction[head][0], j + direction[head][1]\n",
    "        grid[i][j] = 1\n",
    "    end -= 1\n",
    "\n",
    "print(cnt)"
   ]
  },
  {
   "cell_type": "code",
   "execution_count": null,
   "metadata": {},
   "outputs": [],
   "source": []
  }
 ],
 "metadata": {
  "kernelspec": {
   "display_name": "base",
   "language": "python",
   "name": "python3"
  },
  "language_info": {
   "codemirror_mode": {
    "name": "ipython",
    "version": 3
   },
   "file_extension": ".py",
   "mimetype": "text/x-python",
   "name": "python",
   "nbconvert_exporter": "python",
   "pygments_lexer": "ipython3",
   "version": "3.9.13"
  }
 },
 "nbformat": 4,
 "nbformat_minor": 2
}

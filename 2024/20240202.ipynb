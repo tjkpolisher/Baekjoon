{
 "cells": [
  {
   "cell_type": "code",
   "execution_count": 13,
   "metadata": {},
   "outputs": [
    {
     "name": "stdout",
     "output_type": "stream",
     "text": [
      "60\n"
     ]
    }
   ],
   "source": [
    "# 2526: 싸이클\n",
    "## 1. N, P 입력\n",
    "## 2. [반복문]\n",
    "## 2-1. N * N % P를 리스트에 저장\n",
    "## 2-2. 전 과정의 수를 x라 하면, x * N % P를 리스트에 저장\n",
    "## 2-3. 이전 과정들 중 한 번이라도 나왔던 수가 다시 출연할 때까지 반복\n",
    "## 3. 루프가 종료되면 리스트의 원소의 개수 출력\n",
    "from copy import deepcopy\n",
    "N, P = map(int, input().split())\n",
    "numbers = []\n",
    "x = deepcopy(N)\n",
    "while True:\n",
    "    x = (x * N) % P\n",
    "    if x in numbers:\n",
    "        break\n",
    "    numbers.append(x)\n",
    "print(len(numbers) - numbers.index(x))"
   ]
  },
  {
   "cell_type": "code",
   "execution_count": 9,
   "metadata": {},
   "outputs": [
    {
     "data": {
      "text/plain": [
       "{1, 5, 25}"
      ]
     },
     "execution_count": 9,
     "metadata": {},
     "output_type": "execute_result"
    }
   ],
   "source": [
    "numbers"
   ]
  },
  {
   "cell_type": "code",
   "execution_count": null,
   "metadata": {},
   "outputs": [],
   "source": []
  }
 ],
 "metadata": {
  "kernelspec": {
   "display_name": "base",
   "language": "python",
   "name": "python3"
  },
  "language_info": {
   "codemirror_mode": {
    "name": "ipython",
    "version": 3
   },
   "file_extension": ".py",
   "mimetype": "text/x-python",
   "name": "python",
   "nbconvert_exporter": "python",
   "pygments_lexer": "ipython3",
   "version": "3.9.13"
  }
 },
 "nbformat": 4,
 "nbformat_minor": 2
}

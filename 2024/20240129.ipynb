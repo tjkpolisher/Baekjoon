{
 "cells": [
  {
   "cell_type": "code",
   "execution_count": 1,
   "metadata": {},
   "outputs": [
    {
     "name": "stdout",
     "output_type": "stream",
     "text": [
      "HELLO\n"
     ]
    }
   ],
   "source": [
    "# 29701: 모스 부호\n",
    "# 출처: 숙명여자대학교 제3회 숙명여자대학교 프로그래밍 경진대회(SMUPC) C번\n",
    "## 1. 문자열의 길이 N 입력\n",
    "## 2. 각 문자를 뜻하는 모스 부호 입력\n",
    "## 3. 해시 테이블에서 모스 부호에 해당하는 알파벳 또는 문자를 탐색 후 변환\n",
    "## 4. 하나로 합쳐서 출력\n",
    "N = int(input())\n",
    "code_table = {\".-\":\"A\", \"-...\":\"B\", \"-.-.\":\"C\", \"-..\":\"D\",\n",
    "              \".\":\"E\", \"..-.\":\"F\", \"--.\":\"G\", \"....\":\"H\",\n",
    "              \"..\":\"I\",\".---\":\"J\", \"-.-\":\"K\", \".-..\":\"L\",\n",
    "              \"--\":\"M\",\"-.\":\"N\",\"---\":\"O\",\".--.\":\"P\",\n",
    "              \"--.-\":\"Q\",\".-.\":\"R\",\"...\":\"S\",\"-\":\"T\",\n",
    "              \"..-\":\"U\",\"...-\":\"V\",\".--\":\"W\",\"-..-\":\"X\",\n",
    "              \"-.--\":\"Y\",\"--..\":\"Z\",\".----\":\"1\",\"..---\":\"2\",\n",
    "              \"...--\":\"3\",\"....-\":\"4\",\".....\":\"5\",\"-....\":\"6\",\n",
    "              \"--...\":\"7\",\"---..\":\"8\",\"----.\":\"9\",\"-----\":\"0\",\n",
    "              \"--..--\":\",\",\".-.-.-\":\".\",\"..--..\":\"?\",\"---...\":\":\",\n",
    "              \"-....-\":\"-\", \".--.-.\":\"@\"}\n",
    "chars = list(input().split())\n",
    "converted = []\n",
    "for c in chars:\n",
    "    converted.append(code_table[c])\n",
    "print(''.join(converted))"
   ]
  },
  {
   "cell_type": "code",
   "execution_count": null,
   "metadata": {},
   "outputs": [],
   "source": []
  }
 ],
 "metadata": {
  "kernelspec": {
   "display_name": "base",
   "language": "python",
   "name": "python3"
  },
  "language_info": {
   "codemirror_mode": {
    "name": "ipython",
    "version": 3
   },
   "file_extension": ".py",
   "mimetype": "text/x-python",
   "name": "python",
   "nbconvert_exporter": "python",
   "pygments_lexer": "ipython3",
   "version": "3.9.13"
  }
 },
 "nbformat": 4,
 "nbformat_minor": 2
}

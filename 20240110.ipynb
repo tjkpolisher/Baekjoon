{
 "cells": [
  {
   "cell_type": "code",
   "execution_count": null,
   "metadata": {},
   "outputs": [],
   "source": [
    "from itertools import combinations\n",
    "N = int(input())\n",
    "pictures = []\n",
    "for _ in range(N):\n",
    "    picture = ''\n",
    "    for i in range(5):\n",
    "        string_i = input()\n",
    "        picture += string_i\n",
    "    pictures.append(picture)\n",
    "\n",
    "picture_index = list(range(N))\n",
    "combs = list(combinations(picture_index, 2))\n",
    "\n",
    "counters = []\n",
    "for comb in combs:\n",
    "    p1, p2 = pictures[comb[0]], pictures[comb[1]]\n",
    "    counter = 0\n",
    "    for i in range(5 * 7):\n",
    "        if p1[i] != p2[i]:\n",
    "            counter += 1\n",
    "    counters.append(counter)\n",
    "    \n",
    "min_index = counters.index(min(counters))\n",
    "p1, p2 = combs[min_index][0], combs[min_index][1]\n",
    "print(p1 + 1, p2 + 1)"
   ]
  },
  {
   "cell_type": "code",
   "execution_count": null,
   "metadata": {},
   "outputs": [],
   "source": []
  }
 ],
 "metadata": {
  "kernelspec": {
   "display_name": "base",
   "language": "python",
   "name": "python3"
  },
  "language_info": {
   "codemirror_mode": {
    "name": "ipython",
    "version": 3
   },
   "file_extension": ".py",
   "mimetype": "text/x-python",
   "name": "python",
   "nbconvert_exporter": "python",
   "pygments_lexer": "ipython3",
   "version": "3.9.13"
  }
 },
 "nbformat": 4,
 "nbformat_minor": 2
}

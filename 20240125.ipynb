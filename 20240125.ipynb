{
 "cells": [
  {
   "cell_type": "code",
   "execution_count": 17,
   "metadata": {},
   "outputs": [
    {
     "name": "stdout",
     "output_type": "stream",
     "text": [
      "2\n"
     ]
    }
   ],
   "source": [
    "# 6131: 완전 제곱수\n",
    "# 특이사항: 다국어(영어)(한국어 번역)\n",
    "## 1. N 입력\n",
    "## 2. [반복문](1 <= B <= A <= 500)\n",
    "## 2-1. A^2 - B^2 = (A + B)(A - B)이므로 N의 약수를 구함\n",
    "## 2-2. 1과 자기 자신을 제외한 약수의 순서쌍 중 계산\n",
    "## 2-3. 단, 곱해서 자기 자신이 될 경우 A + B = A - B를 만족할 수 없으므로 제외\n",
    "## 3. 개수 출력\n",
    "## 단, 1 <= N <= 1000\n",
    "N = int(input())\n",
    "cnt = 0\n",
    "nums = []\n",
    "\n",
    "for i in range(1, round(N ** 0.5)):\n",
    "    if N % i == 0:\n",
    "        nums.append(i)\n",
    "        \n",
    "if len(nums) != 1:\n",
    "    for num in nums:\n",
    "        another_num = N // num\n",
    "        for b in range(1, N + 1):\n",
    "            for a in range(b + 1, N + 1):\n",
    "                if a + b == another_num and a - b == num:\n",
    "                    cnt += 1\n",
    "print(cnt)"
   ]
  },
  {
   "cell_type": "code",
   "execution_count": 6,
   "metadata": {},
   "outputs": [
    {
     "data": {
      "text/plain": [
       "0"
      ]
     },
     "execution_count": 6,
     "metadata": {},
     "output_type": "execute_result"
    }
   ],
   "source": [
    "N % 3"
   ]
  },
  {
   "cell_type": "code",
   "execution_count": 10,
   "metadata": {},
   "outputs": [
    {
     "data": {
      "text/plain": [
       "2"
      ]
     },
     "execution_count": 10,
     "metadata": {},
     "output_type": "execute_result"
    }
   ],
   "source": [
    "i"
   ]
  },
  {
   "cell_type": "code",
   "execution_count": 16,
   "metadata": {},
   "outputs": [
    {
     "data": {
      "text/plain": [
       "[1, 3]"
      ]
     },
     "execution_count": 16,
     "metadata": {},
     "output_type": "execute_result"
    }
   ],
   "source": [
    "nums"
   ]
  },
  {
   "cell_type": "code",
   "execution_count": null,
   "metadata": {},
   "outputs": [],
   "source": []
  }
 ],
 "metadata": {
  "kernelspec": {
   "display_name": "base",
   "language": "python",
   "name": "python3"
  },
  "language_info": {
   "codemirror_mode": {
    "name": "ipython",
    "version": 3
   },
   "file_extension": ".py",
   "mimetype": "text/x-python",
   "name": "python",
   "nbconvert_exporter": "python",
   "pygments_lexer": "ipython3",
   "version": "3.9.13"
  }
 },
 "nbformat": 4,
 "nbformat_minor": 2
}

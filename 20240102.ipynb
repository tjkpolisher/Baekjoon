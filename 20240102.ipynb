{
 "cells": [
  {
   "cell_type": "code",
   "execution_count": 6,
   "metadata": {},
   "outputs": [
    {
     "name": "stdout",
     "output_type": "stream",
     "text": [
      "1\n",
      "S\n"
     ]
    }
   ],
   "source": [
    "# 1524: 세준세비\n",
    "## 1. 테스트 케이스의 개수 T 입력\n",
    "## 2. [반복문]\n",
    "## 2-1. 세준과 세비의 병사 수 N과 M 입력\n",
    "## 2-2. 세준의 병사들의 힘 입력\n",
    "## 2-3. 세비의 병사들의 힘 입력\n",
    "## 2-4. 제일 강한 병사가 있는 쪽을 판단\n",
    "## 2-4-1. 제일 강한 병사가 여려 명이고 양 편에 모두 있다면, 세준 승\n",
    "## 2-5. 한 명의 병사를 제외하고 모두 죽었을 때 승자 출력\n",
    "T = int(input())\n",
    "for _ in range(T):\n",
    "    blank = input()\n",
    "    N, M = map(int, input().split())\n",
    "    sj = list(map(int, input().split()))\n",
    "    sb = list(map(int, input().split()))\n",
    "    maximum_power = max(max(sj), max(sb))\n",
    "    if maximum_power in sj and maximum_power in sb:\n",
    "        print(\"S\")\n",
    "    elif maximum_power in sb:\n",
    "        print(\"B\")\n",
    "    else:\n",
    "        print(\"S\")"
   ]
  },
  {
   "cell_type": "code",
   "execution_count": null,
   "metadata": {},
   "outputs": [],
   "source": []
  }
 ],
 "metadata": {
  "kernelspec": {
   "display_name": "base",
   "language": "python",
   "name": "python3"
  },
  "language_info": {
   "codemirror_mode": {
    "name": "ipython",
    "version": 3
   },
   "file_extension": ".py",
   "mimetype": "text/x-python",
   "name": "python",
   "nbconvert_exporter": "python",
   "pygments_lexer": "ipython3",
   "version": "3.9.13"
  }
 },
 "nbformat": 4,
 "nbformat_minor": 2
}

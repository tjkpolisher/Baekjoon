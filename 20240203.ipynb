{
 "cells": [
  {
   "cell_type": "code",
   "execution_count": null,
   "metadata": {},
   "outputs": [],
   "source": [
    "# 10808: 알파벳 개수\n",
    "## 1. 문자열 입력\n",
    "## 2. 알파벳 별 개수를 담을 딕셔너리 생성\n",
    "## 3. 문자열의 소문자마다 개수가 늘어나면 1을 더하기\n",
    "## 4. 딕셔너리의 값들을 주어진 양식에 맞게 출력\n",
    "string = input()\n",
    "alphabet_key = list(\"abcdefghijklmnopqrstuvwxyz\")\n",
    "alphabet_value = [0] * len(alphabet_key)\n",
    "alphabet = {alphabet_key[i]:alphabet_value[i] for i in range(len(alphabet_key))}\n",
    "for c in string:\n",
    "    alphabet[c] += 1\n",
    "for i in range(len(alphabet_key)):\n",
    "    print(alphabet[alphabet_key[i]], end=' ')"
   ]
  },
  {
   "cell_type": "code",
   "execution_count": null,
   "metadata": {},
   "outputs": [],
   "source": []
  }
 ],
 "metadata": {
  "kernelspec": {
   "display_name": "base",
   "language": "python",
   "name": "python3"
  },
  "language_info": {
   "codemirror_mode": {
    "name": "ipython",
    "version": 3
   },
   "file_extension": ".py",
   "mimetype": "text/x-python",
   "name": "python",
   "nbconvert_exporter": "python",
   "pygments_lexer": "ipython3",
   "version": "3.9.13"
  }
 },
 "nbformat": 4,
 "nbformat_minor": 2
}

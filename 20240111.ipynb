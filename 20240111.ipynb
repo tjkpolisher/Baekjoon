{
 "cells": [
  {
   "cell_type": "code",
   "execution_count": 2,
   "metadata": {},
   "outputs": [
    {
     "name": "stdout",
     "output_type": "stream",
     "text": [
      "-1\n"
     ]
    }
   ],
   "source": [
    "# 1977: 완전제곱수\n",
    "## 1. M 입력\n",
    "## 2. N 입력\n",
    "## 3. 2부터 100까지의 수에 대한 제곱수로 이루어진 리스트 생성\n",
    "## 4. M부터 N까지의 수 중 리스트에 해당하는 수를 별도로 저장\n",
    "## 5-1. 리스트가 비어있을 경우 -1 출력\n",
    "## 5-2. 리스트에 하나라도 요소가 있을 경우 첫째 줄에 합을, 둘째 줄에 최소값을 출력\n",
    "M = int(input())\n",
    "N = int(input())\n",
    "squared = [i ** 2 for i in range(1, 101)]\n",
    "ans = []\n",
    "for i in range(M, N + 1):\n",
    "    if i in squared:\n",
    "        ans.append(i)\n",
    "if not ans:\n",
    "    print(-1)\n",
    "else:\n",
    "    print(sum(ans))\n",
    "    print(min(ans))"
   ]
  },
  {
   "cell_type": "code",
   "execution_count": 3,
   "metadata": {},
   "outputs": [
    {
     "name": "stdout",
     "output_type": "stream",
     "text": [
      "YES\n",
      "YES\n",
      "YES\n",
      "NO\n"
     ]
    }
   ],
   "source": [
    "# 2028: 자기복제수\n",
    "## 0. 테스트 케이스의 개수 T 입력\n",
    "## 1. N 입력\n",
    "## 2. N의 제곱수 계산\n",
    "## 3. 맨 뒷자리에 원래의 수 N이 나타나는 지 비교\n",
    "## 4. 맞으면 YES를, 아니면 NO 출력\n",
    "T = int(input())\n",
    "for i in range(T):\n",
    "    N = input()\n",
    "    N_squared = int(N) ** 2\n",
    "    \n",
    "    if str(N_squared)[-len(N):] == N:\n",
    "        print('YES')\n",
    "    else:\n",
    "        print('NO')"
   ]
  },
  {
   "cell_type": "code",
   "execution_count": 5,
   "metadata": {},
   "outputs": [
    {
     "name": "stdout",
     "output_type": "stream",
     "text": [
      "3.0\n"
     ]
    }
   ],
   "source": [
    "# 29751: 삼각형\n",
    "# 특이사항: 다국어(영어, 한국어 번역)\n",
    "## 1. W, H 입력\n",
    "## 2. 넓이 1/2 * W * H 계산\n",
    "## 3. 소수점 아래 첫 번째 자리까지 출력\n",
    "W, H = map(int, input().split())\n",
    "S = 0.5 * W * H\n",
    "print(f\"{S:.1f}\")"
   ]
  },
  {
   "cell_type": "code",
   "execution_count": 7,
   "metadata": {},
   "outputs": [
    {
     "name": "stdout",
     "output_type": "stream",
     "text": [
      "Triangle #1\n",
      "c = 5.000\n",
      "\n",
      "Triangle #2\n",
      "a = 6.708\n",
      "\n",
      "Triangle #3\n",
      "Impossible.\n",
      "\n"
     ]
    }
   ],
   "source": [
    "# 6322: 직각 삼각형의 두 변\n",
    "# 특이사항: 다국어(영어, 한국어 번역)\n",
    "## 1. a, b, c 입력(-1이 하나 포함되며, -1은 미지수를 의미)\n",
    "## 2. a^2 + b^2 = c^2을 만족하는 미지수 계산\n",
    "## 3-1. 계산이 불가능할 경우, \"Impossible.\" 출력.\n",
    "## 3-2. 가능할 경우, 문제에 주어진 양식에 맞춰 출력.\n",
    "## 단, 숫자는 반드시 소수점 세 번째 자리까지 출력.\n",
    "import math\n",
    "number = 0\n",
    "while True:\n",
    "    number += 1\n",
    "    a, b, c = map(int, input().split())\n",
    "    if (a, b, c) == (0, 0, 0):\n",
    "        break\n",
    "    x_index = (a, b, c).index(-1)\n",
    "    lines = [\"a\", \"b\", \"c\"]\n",
    "    \n",
    "    print(f\"Triangle #{number}\")\n",
    "    if c != -1 and (a >= c or b >= c):\n",
    "        print(\"Impossible.\")\n",
    "        print()\n",
    "    else:\n",
    "        if x_index == 2:\n",
    "            ans = math.sqrt(a ** 2 + b ** 2)\n",
    "        elif x_index == 0:\n",
    "            ans = math.sqrt(c ** 2 - b ** 2)\n",
    "        else:\n",
    "            ans = math.sqrt(c ** 2 - a ** 2)\n",
    "        print(f\"{lines[x_index]} = {ans:.3f}\")\n",
    "        print()"
   ]
  },
  {
   "cell_type": "code",
   "execution_count": null,
   "metadata": {},
   "outputs": [],
   "source": []
  }
 ],
 "metadata": {
  "kernelspec": {
   "display_name": "base",
   "language": "python",
   "name": "python3"
  },
  "language_info": {
   "codemirror_mode": {
    "name": "ipython",
    "version": 3
   },
   "file_extension": ".py",
   "mimetype": "text/x-python",
   "name": "python",
   "nbconvert_exporter": "python",
   "pygments_lexer": "ipython3",
   "version": "3.9.13"
  }
 },
 "nbformat": 4,
 "nbformat_minor": 2
}

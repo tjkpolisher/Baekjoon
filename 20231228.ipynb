{
 "cells": [
  {
   "cell_type": "code",
   "execution_count": 11,
   "metadata": {},
   "outputs": [
    {
     "name": "stdout",
     "output_type": "stream",
     "text": [
      "TUE\n"
     ]
    }
   ],
   "source": [
    "# 1924: 2007년\n",
    "from datetime import datetime\n",
    "x, y = input().split()\n",
    "now = datetime.strptime('-'.join(('2007', x, y)), '%Y-%m-%d')\n",
    "weekday = now.weekday()\n",
    "weekday_dict = {0: \"MON\", 1: \"TUE\", 2: \"WED\",\n",
    "                3: \"THU\", 4: \"FRI\", 5: \"SAT\",\n",
    "                6: \"SUN\"}\n",
    "print(weekday_dict[weekday])"
   ]
  },
  {
   "cell_type": "code",
   "execution_count": null,
   "metadata": {},
   "outputs": [],
   "source": []
  }
 ],
 "metadata": {
  "kernelspec": {
   "display_name": "base",
   "language": "python",
   "name": "python3"
  },
  "language_info": {
   "codemirror_mode": {
    "name": "ipython",
    "version": 3
   },
   "file_extension": ".py",
   "mimetype": "text/x-python",
   "name": "python",
   "nbconvert_exporter": "python",
   "pygments_lexer": "ipython3",
   "version": "3.9.13"
  }
 },
 "nbformat": 4,
 "nbformat_minor": 2
}

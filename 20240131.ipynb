{
 "cells": [
  {
   "cell_type": "code",
   "execution_count": null,
   "metadata": {},
   "outputs": [],
   "source": [
    "# 2052: 지수연산\n",
    "# 특이사항: 수학 문제의 탈을 쓴 문자열 포맷 문제입니다. 출력되는 자릿수와 그 형식에 유의하세요.\n",
    "# 1.12e-1과 같은 지수 표기가 아닌 정확한 소수 형태로 출력되어야 합니다.\n",
    "## 1. N 입력\n",
    "## 2. 2^(-N) 연산\n",
    "## 3. 정확한 소수가 출력되도록 답 출력\n",
    "N = int(input())\n",
    "ans = f\"{2 ** (-N):.1000f}\".rstrip('0')\n",
    "print(ans)"
   ]
  },
  {
   "cell_type": "code",
   "execution_count": null,
   "metadata": {},
   "outputs": [],
   "source": []
  }
 ],
 "metadata": {
  "kernelspec": {
   "display_name": "base",
   "language": "python",
   "name": "python3"
  },
  "language_info": {
   "codemirror_mode": {
    "name": "ipython",
    "version": 3
   },
   "file_extension": ".py",
   "mimetype": "text/x-python",
   "name": "python",
   "nbconvert_exporter": "python",
   "pygments_lexer": "ipython3",
   "version": "3.9.13"
  }
 },
 "nbformat": 4,
 "nbformat_minor": 2
}

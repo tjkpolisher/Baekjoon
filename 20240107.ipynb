{
 "cells": [
  {
   "cell_type": "code",
   "execution_count": 4,
   "metadata": {},
   "outputs": [
    {
     "name": "stdout",
     "output_type": "stream",
     "text": [
      "0 10\n"
     ]
    }
   ],
   "source": [
    "# 2456: 나는 학급회장이다\n",
    "## 1. 반의 학생들 수 N 입력\n",
    "## 2. [반복문] 후보별 3점, 2점을 받은 횟수 리스트 준비\n",
    "## 2-1. 각 줄에서 회장후보 3명에 대한 선호 점수를 순서대로 입력\n",
    "## 2-2. 각 후보별 점수에 점수 합산\n",
    "## 2-3. 3점을 받은 후보는 3점을 받은 횟수가 1회 추가됨\n",
    "## 2-4. 2점을 받은 후보는 2점을 받은 횟수가 1회 추가됨\n",
    "## 3. [조건문]\n",
    "## 3-1. 가장 큰 점수를 받은 후보와 최고 점수 출력\n",
    "## 3-2. 동점일 경우 3점 횟수가 더 많은 후보와 최고 점수출력\n",
    "## 3-3. 3점 횟수 동률일 경우 2점 횟수가 더 많은 후보와 최고 점수 출력\n",
    "## 3-4. 2점 횟수까지 동률일 경우 번호 0과 최고 점수 출력\n",
    "N = int(input())\n",
    "three, two, one = [0] * 3, [0] * 3, [0] * 3\n",
    "score1, score2, score3 = 0, 0, 0\n",
    "for i in range(N):\n",
    "    scores = list(map(int, input().split()))\n",
    "    index_of_3, index_of_2, index_of_1 = scores.index(3), scores.index(2), scores.index(1)\n",
    "    score1 += scores[0]\n",
    "    score2 += scores[1]\n",
    "    score3 += scores[2]\n",
    "    \n",
    "    three[index_of_3] += 1\n",
    "    two[index_of_2] += 1\n",
    "    one[index_of_1] += 1\n",
    "\n",
    "score_list = [score1, score2, score3]\n",
    "max_score = max(score_list)\n",
    "max_three = max(three)\n",
    "max_two = max(two)\n",
    "max_one = max(one)\n",
    "answer = 0\n",
    "\n",
    "if score_list.count(max_score) == 1:\n",
    "    answer = score_list.index(max_score) + 1\n",
    "elif three.count(max_three) == 1:\n",
    "    answer = three.index(max_three) + 1\n",
    "elif two.count(max_two) == 1:\n",
    "    answer = two.index(max_two) + 1\n",
    "    \n",
    "print(answer, max_score)"
   ]
  },
  {
   "cell_type": "code",
   "execution_count": null,
   "metadata": {},
   "outputs": [],
   "source": []
  }
 ],
 "metadata": {
  "kernelspec": {
   "display_name": "base",
   "language": "python",
   "name": "python3"
  },
  "language_info": {
   "codemirror_mode": {
    "name": "ipython",
    "version": 3
   },
   "file_extension": ".py",
   "mimetype": "text/x-python",
   "name": "python",
   "nbconvert_exporter": "python",
   "pygments_lexer": "ipython3",
   "version": "3.9.13"
  }
 },
 "nbformat": 4,
 "nbformat_minor": 2
}

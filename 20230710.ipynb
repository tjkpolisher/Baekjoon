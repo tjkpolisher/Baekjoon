{
 "cells": [
  {
   "cell_type": "code",
   "execution_count": 31,
   "metadata": {},
   "outputs": [
    {
     "name": "stdout",
     "output_type": "stream",
     "text": [
      "0\n"
     ]
    }
   ],
   "source": [
    "# 1009: 분산처리\n",
    "T = int(input())\n",
    "for i in range(T):\n",
    "    a, b = map(int, input().split())\n",
    "    ones = []\n",
    "    ones.append(a % 10)\n",
    "    elem = ones[-1] * a % 10\n",
    "    while elem != ones[0]:\n",
    "        ones.append(elem)\n",
    "        elem = ones[-1] * a % 10\n",
    "    \n",
    "    one = ones[b % len(ones) - 1]\n",
    "    if one == 0:\n",
    "        one = 10\n",
    "    print(one)"
   ]
  },
  {
   "cell_type": "code",
   "execution_count": 37,
   "metadata": {},
   "outputs": [
    {
     "name": "stdout",
     "output_type": "stream",
     "text": [
      "15\n"
     ]
    }
   ],
   "source": [
    "# 1075: 나누기\n",
    "N_string = input()\n",
    "N = int(N_string)\n",
    "F = int(input())\n",
    "for i in range(0, 100):\n",
    "    string = \"0\"+str(i) if i<10 else str(i)\n",
    "    a = ''.join([N_string[:-2], string])\n",
    "    if int(a) % F == 0:\n",
    "        break\n",
    "    else:\n",
    "        pass\n",
    "print(string)"
   ]
  },
  {
   "cell_type": "code",
   "execution_count": 39,
   "metadata": {},
   "outputs": [
    {
     "name": "stdout",
     "output_type": "stream",
     "text": [
      "32000000\n"
     ]
    }
   ],
   "source": [
    "# 1076: 저항\n",
    "c1 = input()\n",
    "c2 = input()\n",
    "c3 = input()\n",
    "dict_keys = ['black', 'brown', 'red', 'orange',\n",
    "             'yellow', 'green', 'blue', 'violet',\n",
    "             'grey', 'white']\n",
    "dict = {dict_keys[i]:[i, 10 ** i] for i in range(10)}\n",
    "n1 = dict[c1][0]\n",
    "n2 = dict[c2][0]\n",
    "n3 = dict[c3][1]\n",
    "print((n1 * 10 + n2) * n3)"
   ]
  },
  {
   "cell_type": "code",
   "execution_count": 40,
   "metadata": {},
   "outputs": [
    {
     "name": "stdout",
     "output_type": "stream",
     "text": [
      "1\n"
     ]
    }
   ],
   "source": [
    "# 1100: 하얀 칸\n",
    "input_plate = []\n",
    "for _ in range(8):\n",
    "    input_plate.append(input())\n",
    "counter = 0\n",
    "for i in range(8): # 행의 개수\n",
    "    for j in range(8): # 열의 개수\n",
    "        if (i + j) % 2 == 0 and input_plate[i][j]==\"F\":\n",
    "            counter += 1\n",
    "print(counter)"
   ]
  },
  {
   "cell_type": "code",
   "execution_count": null,
   "metadata": {},
   "outputs": [],
   "source": []
  }
 ],
 "metadata": {
  "kernelspec": {
   "display_name": "base",
   "language": "python",
   "name": "python3"
  },
  "language_info": {
   "codemirror_mode": {
    "name": "ipython",
    "version": 3
   },
   "file_extension": ".py",
   "mimetype": "text/x-python",
   "name": "python",
   "nbconvert_exporter": "python",
   "pygments_lexer": "ipython3",
   "version": "3.10.9"
  },
  "orig_nbformat": 4
 },
 "nbformat": 4,
 "nbformat_minor": 2
}

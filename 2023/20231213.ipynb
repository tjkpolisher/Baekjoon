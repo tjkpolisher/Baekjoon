{
 "cells": [
  {
   "cell_type": "code",
   "execution_count": 1,
   "metadata": {},
   "outputs": [
    {
     "name": "stdout",
     "output_type": "stream",
     "text": [
      "6\n"
     ]
    }
   ],
   "source": [
    "# 8393: 합\n",
    "# 특이사항: 다국어(영어)(한국어 번역)\n",
    "n = int(input())\n",
    "print(sum(range(1, n+1)))"
   ]
  },
  {
   "cell_type": "code",
   "execution_count": 20,
   "metadata": {},
   "outputs": [
    {
     "name": "stdout",
     "output_type": "stream",
     "text": [
      "8\n"
     ]
    }
   ],
   "source": [
    "# 1919: 애너그램 만들기\n",
    "\"\"\"word1 = list(input())\n",
    "word2 = list(input())\n",
    "len1 = len(word1)\n",
    "len2 = len(word2)\n",
    "if len1 < len2:\n",
    "    word1, word2 = word2, word1\n",
    "counter = 0\n",
    "anagram_char = []\n",
    "for _ in range(len1):\n",
    "    if word1[0] not in word2:\n",
    "        counter += 1\n",
    "    else:\n",
    "        anagram_char.append(word1[0])\n",
    "        word2.remove(word1[0])\n",
    "    word1.remove(word1[0])\n",
    "\n",
    "print(len1 + len2 - 2 * len(anagram_char))\"\"\"\n",
    "\n",
    "from collections import Counter\n",
    "\n",
    "word1 = Counter(input())\n",
    "word2 = Counter(input())\n",
    "\n",
    "counter = (word1 - word2) + (word2 - word1)\n",
    "\n",
    "print(sum(counter.values()))"
   ]
  },
  {
   "cell_type": "code",
   "execution_count": 27,
   "metadata": {},
   "outputs": [
    {
     "name": "stdout",
     "output_type": "stream",
     "text": [
      "6\n"
     ]
    }
   ],
   "source": [
    "# 2292: 벌집\n",
    "N = int(input())\n",
    "\n",
    "n = 1\n",
    "counter = 1\n",
    "while N > n:\n",
    "    n += 6 * counter\n",
    "    counter += 1\n",
    "print(counter)"
   ]
  },
  {
   "cell_type": "code",
   "execution_count": 32,
   "metadata": {},
   "outputs": [
    {
     "name": "stdout",
     "output_type": "stream",
     "text": [
      "4\n"
     ]
    }
   ],
   "source": [
    "# 1268: 임시 반장 정하기\n",
    "n = int(input())\n",
    "numbers = []\n",
    "for i in range(n):\n",
    "    numbers.append(list(map(int, input().split())))\n",
    "\n",
    "companion = [[0 for i in range(n)] for j in range(n)] # 같은 반이었던 학생 수\n",
    "for i in range(5):\n",
    "    for j in range(n):\n",
    "        for k in range(j + 1, n):\n",
    "            if numbers[j][i] == numbers[k][i]:\n",
    "                companion[j][k] = 1\n",
    "                companion[k][j] = 1\n",
    "\n",
    "frequency = []\n",
    "for c in companion:\n",
    "    frequency.append(c.count(1))\n",
    "\n",
    "print(frequency.index(max(frequency)) + 1)"
   ]
  },
  {
   "cell_type": "code",
   "execution_count": 40,
   "metadata": {},
   "outputs": [
    {
     "name": "stdout",
     "output_type": "stream",
     "text": [
      "15\n"
     ]
    }
   ],
   "source": [
    "# 1292: 쉽게 푸는 문제\n",
    "A, B = map(int, input().split())\n",
    "array = []\n",
    "for i in range(1, 48):\n",
    "    for j in range(i):\n",
    "        array.append(i)\n",
    "print(sum(array[A-1:B]))"
   ]
  },
  {
   "cell_type": "code",
   "execution_count": 34,
   "metadata": {},
   "outputs": [
    {
     "data": {
      "text/plain": [
       "1176"
      ]
     },
     "execution_count": 34,
     "metadata": {},
     "output_type": "execute_result"
    }
   ],
   "source": [
    "24 * 49"
   ]
  },
  {
   "cell_type": "code",
   "execution_count": null,
   "metadata": {},
   "outputs": [],
   "source": []
  }
 ],
 "metadata": {
  "kernelspec": {
   "display_name": "base",
   "language": "python",
   "name": "python3"
  },
  "language_info": {
   "codemirror_mode": {
    "name": "ipython",
    "version": 3
   },
   "file_extension": ".py",
   "mimetype": "text/x-python",
   "name": "python",
   "nbconvert_exporter": "python",
   "pygments_lexer": "ipython3",
   "version": "3.9.13"
  }
 },
 "nbformat": 4,
 "nbformat_minor": 2
}

{
 "cells": [
  {
   "cell_type": "code",
   "execution_count": null,
   "metadata": {},
   "outputs": [],
   "source": [
    "# 1296: 팀 이름 정하기\n",
    "## 1. 영어 이름/팀 이름 후보의 개수 N/팀 이름 입력\n",
    "## 2. 연두의 영어 이름과 팀 이름에 있는 L, O, V, E의 개수 세기\n",
    "## 3. ((L+O) × (L+V) × (L+E) × (O+V) × (O+E) × (V+E)) % 100로 점수 계산(원문에는 mod로 표기됨)\n",
    "## 4. 우승할 확률이 이전 확률보다 높으면 확률 갱신, 이름 갱신\n",
    "## 4-1. 만약 확률이 동일할 경우 사전 순으로 가장 앞서는 팀 이름 채택\n",
    "name = input()\n",
    "love = list(\"LOVE\")\n",
    "counter_name = [name.count(love[i]) for i in range(4)]\n",
    "answer = '' # 채택된 팀 이름\n",
    "N = int(input())\n",
    "p = 0 # 우승할 확률\n",
    "for _ in range(N):\n",
    "    team = input()\n",
    "    counter = [counter_name[i] + team.count(love[i]) for i in range(4)]\n",
    "    l, o, v, e = counter[0], counter[1], counter[2], counter[3]\n",
    "    p_ = round(((l + o) * (l + v) * (l + e) * (o + v) * (o + e) * (v + e)) % 100, 5)\n",
    "    \n",
    "    if p < p_:\n",
    "        p = p_\n",
    "        answer = team\n",
    "    elif p == p_:\n",
    "        if not answer:\n",
    "            answer = team\n",
    "        elif answer > team:\n",
    "            # 팀 이름 후보가 기존 이름보다 사전에서 앞설 때\n",
    "            answer = team\n",
    "print(answer)"
   ]
  },
  {
   "cell_type": "code",
   "execution_count": 48,
   "metadata": {},
   "outputs": [
    {
     "name": "stdout",
     "output_type": "stream",
     "text": [
      "YES\n"
     ]
    }
   ],
   "source": [
    "# 1356: 유진수\n",
    "## 1. 판별할 수 N 입력\n",
    "## 2. [반복문]\n",
    "## 2-1. 수를 앞 뒤로 나눔(나눌 때 항상 연속된 자리수를 나눠야 하고, 각 부분에 적어도 한자리는 있어야 함)\n",
    "## 2-2. 앞부분 자리수의 곱과 뒷부분 자리수의 곱을 각각 계산\n",
    "## 2-3. 두 결과값이 같으면 YES를 출력하고 종료\n",
    "## 2-4. 결과값이 다르다면 다음 경우의 수로 이동\n",
    "## 2-5. 반복문 종료시까지 결과값이 같은 경우가 나오지 않으면 NO를 출력\n",
    "def product(l):\n",
    "    a = 1\n",
    "    for i in range(len(l)):\n",
    "        a *= int(l[i]) \n",
    "    return a\n",
    "\n",
    "N = input()\n",
    "answer = 'NO'\n",
    "if len(N) == 1:\n",
    "    pass\n",
    "else:\n",
    "    for i in range(1, len(N)):\n",
    "        front, end = list(N[:i]), list(N[i:]) # 오답 발생 구간 - 인덱싱에 주의!\n",
    "        front_mul, end_mul = product(front), product(end)\n",
    "        if front_mul == end_mul:\n",
    "            answer = 'YES'\n",
    "            break\n",
    "print(answer)"
   ]
  },
  {
   "cell_type": "code",
   "execution_count": 51,
   "metadata": {},
   "outputs": [
    {
     "name": "stdout",
     "output_type": "stream",
     "text": [
      "1\n"
     ]
    }
   ],
   "source": [
    "# 1357: 뒤집힌 덧셈\n",
    "## 1. 두 수 X, Y 입력 받기\n",
    "## 2. 정수 변환 없이 일단 자리수 뒤집기\n",
    "## 3. 덧셈 연산\n",
    "## 4. 다시 뒤집기\n",
    "X, Y = input().split()\n",
    "X, Y = X[::-1], Y[::-1]\n",
    "summation = str(int(X) + int(Y))\n",
    "print(int(summation[::-1]))"
   ]
  },
  {
   "cell_type": "code",
   "execution_count": null,
   "metadata": {},
   "outputs": [],
   "source": []
  }
 ],
 "metadata": {
  "kernelspec": {
   "display_name": "base",
   "language": "python",
   "name": "python3"
  },
  "language_info": {
   "codemirror_mode": {
    "name": "ipython",
    "version": 3
   },
   "file_extension": ".py",
   "mimetype": "text/x-python",
   "name": "python",
   "nbconvert_exporter": "python",
   "pygments_lexer": "ipython3",
   "version": "3.9.13"
  }
 },
 "nbformat": 4,
 "nbformat_minor": 2
}

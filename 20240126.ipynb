{
 "cells": [
  {
   "cell_type": "code",
   "execution_count": 17,
   "metadata": {},
   "outputs": [
    {
     "name": "stdout",
     "output_type": "stream",
     "text": [
      "9\n"
     ]
    }
   ],
   "source": [
    "# 2960: 에라토스테네스의 체\n",
    "# 특이사항: 다국어(영어)(한국어 번역)\n",
    "## 1. N, K 입력\n",
    "## 2. 2부터 N까지의 정수를 담은 리스트 생성\n",
    "## 3. 아직 지우지 않은 수 중 가장 작은 수 P 지정\n",
    "## 4. P를 포함해 P의 배수를 담은 리스트 생성 후 원소를 집합에서 제거\n",
    "## 4-1. 지울 때, 이미 그 원소가 지워졌을 경우는 pass하고 카운터에도 집계하지 않음\n",
    "## 5. 아직 모든 수를 지우지 않았다면 2번으로 복귀, 이하 반복\n",
    "## 6. K번째 지우는 소수 출력\n",
    "N, K = map(int, input().split())\n",
    "numbers = set(range(2, N + 1))\n",
    "cnt = 0\n",
    "while True:\n",
    "    p = list(numbers)[0]\n",
    "    to_be_removed = list(range(p, N + 1, p))\n",
    "    for n in to_be_removed:\n",
    "        if n in numbers:\n",
    "            numbers -= set([n])\n",
    "            cnt += 1\n",
    "        if cnt == K:\n",
    "            answer = n\n",
    "            break\n",
    "    if cnt == K:\n",
    "        break\n",
    "print(answer)"
   ]
  },
  {
   "cell_type": "code",
   "execution_count": null,
   "metadata": {},
   "outputs": [],
   "source": []
  }
 ],
 "metadata": {
  "kernelspec": {
   "display_name": "base",
   "language": "python",
   "name": "python3"
  },
  "language_info": {
   "codemirror_mode": {
    "name": "ipython",
    "version": 3
   },
   "file_extension": ".py",
   "mimetype": "text/x-python",
   "name": "python",
   "nbconvert_exporter": "python",
   "pygments_lexer": "ipython3",
   "version": "3.9.13"
  }
 },
 "nbformat": 4,
 "nbformat_minor": 2
}

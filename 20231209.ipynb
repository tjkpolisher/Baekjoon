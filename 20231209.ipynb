{
 "cells": [
  {
   "cell_type": "code",
   "execution_count": 8,
   "metadata": {},
   "outputs": [
    {
     "name": "stdout",
     "output_type": "stream",
     "text": [
      "55.55555555555556\n"
     ]
    }
   ],
   "source": [
    "# 1546: 평균\n",
    "N = int(input())\n",
    "scores = list(map(int, input().split()))\n",
    "\n",
    "M = max(scores)\n",
    "max_index = scores.index(M)\n",
    "for i in range(N):\n",
    "    scores[i] = scores[i] / M * 100\n",
    "print(sum(scores) / N)"
   ]
  },
  {
   "cell_type": "code",
   "execution_count": 15,
   "metadata": {},
   "outputs": [
    {
     "name": "stdout",
     "output_type": "stream",
     "text": [
      "3\n"
     ]
    }
   ],
   "source": [
    "# 1236: 성 지키기\n",
    "N, M = map(int, input().split())\n",
    "rows = 0\n",
    "cols = set()\n",
    "\n",
    "for i in range(N):\n",
    "    spot = list(input())\n",
    "    if \"X\" in spot:\n",
    "        rows += 1\n",
    "        for j in range(M):\n",
    "            if spot[j] == \"X\":\n",
    "                cols.add(j)\n",
    "cols = len(list(cols))\n",
    "print(max(N - rows, M - cols))"
   ]
  },
  {
   "cell_type": "code",
   "execution_count": null,
   "metadata": {},
   "outputs": [],
   "source": []
  }
 ],
 "metadata": {
  "kernelspec": {
   "display_name": "base",
   "language": "python",
   "name": "python3"
  },
  "language_info": {
   "codemirror_mode": {
    "name": "ipython",
    "version": 3
   },
   "file_extension": ".py",
   "mimetype": "text/x-python",
   "name": "python",
   "nbconvert_exporter": "python",
   "pygments_lexer": "ipython3",
   "version": "3.9.13"
  }
 },
 "nbformat": 4,
 "nbformat_minor": 2
}

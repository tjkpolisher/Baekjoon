{
 "cells": [
  {
   "cell_type": "code",
   "execution_count": 6,
   "metadata": {},
   "outputs": [
    {
     "name": "stdout",
     "output_type": "stream",
     "text": [
      "Case #1: test a is this\n",
      "Case #2: foobar\n",
      "Case #3: base your all\n"
     ]
    }
   ],
   "source": [
    "# 12605: 단어순서 뒤집기\n",
    "# 특이사항: 다국어(영어 추정)(한국어 번역)\n",
    "# 출처: Google Code Jam Africa 2010 - Qualification Round - B1번\n",
    "N = int(input())\n",
    "for i in range(N):\n",
    "    sentence = list(input().split())\n",
    "    print(f\"Case #{i + 1}: {' '.join(sentence[::-1])}\")"
   ]
  },
  {
   "cell_type": "code",
   "execution_count": 29,
   "metadata": {},
   "outputs": [
    {
     "name": "stdout",
     "output_type": "stream",
     "text": [
      "1\n"
     ]
    }
   ],
   "source": [
    "# 17608: 막대기\n",
    "## 1. 막대기 개수 N 입력\n",
    "## 2. 막대기 높이 전부 입력\n",
    "## 3. 최대값 인덱스 이전은 전부 버리고(가려서 안 보임) 오름차순으로 정렬\n",
    "## 4. [반복문]\n",
    "## 4-1. 막대기의 높이 h를 3에서 전처리한 리스트로부터 입력\n",
    "## 4-2-1. 스택의 이전 원소가 h보다 크거나 같으면 그냥 넘어감\n",
    "## 4-2-2. 그렇지 않은 경우에만 h를 푸시\n",
    "## 5. 스택의 길이 출력\n",
    "N = int(input())\n",
    "stack = []\n",
    "original = []\n",
    "for _ in range(N):\n",
    "    original.append(int(input()))\n",
    "m = original.index(max(original))\n",
    "original = original[m:][::-1]\n",
    "for i in range(len(original)):\n",
    "    h = original[i]\n",
    "    if not stack:\n",
    "        stack.append(h)\n",
    "    \n",
    "    if (stack and stack[-1] < h):\n",
    "        stack.append(h)\n",
    "print(len(stack))"
   ]
  },
  {
   "cell_type": "code",
   "execution_count": null,
   "metadata": {},
   "outputs": [],
   "source": []
  }
 ],
 "metadata": {
  "kernelspec": {
   "display_name": "base",
   "language": "python",
   "name": "python3"
  },
  "language_info": {
   "codemirror_mode": {
    "name": "ipython",
    "version": 3
   },
   "file_extension": ".py",
   "mimetype": "text/x-python",
   "name": "python",
   "nbconvert_exporter": "python",
   "pygments_lexer": "ipython3",
   "version": "3.9.13"
  }
 },
 "nbformat": 4,
 "nbformat_minor": 2
}

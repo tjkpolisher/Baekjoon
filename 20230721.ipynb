{
 "cells": [
  {
   "cell_type": "code",
   "execution_count": 1,
   "metadata": {},
   "outputs": [],
   "source": [
    "# 1371: 가장 많은 글자\n",
    "import sys\n",
    "input = sys.stdin.readlines()\n",
    "while True:\n",
    "    try:\n",
    "        sentence = list(input())\n",
    "        characters = list(set(sentence))\n",
    "        counts = []\n",
    "        for alphabet in characters:\n",
    "            counts.append(sentence.count(alphabet))\n",
    "        max_count = max(counts)\n",
    "        maximum = sorted([characters[i] for i in range(len(characters)) if counts[i] == max_count])\n",
    "        print(''.join(maximum))\n",
    "    except:\n",
    "        break"
   ]
  },
  {
   "cell_type": "code",
   "execution_count": null,
   "metadata": {},
   "outputs": [],
   "source": []
  }
 ],
 "metadata": {
  "kernelspec": {
   "display_name": "base",
   "language": "python",
   "name": "python3"
  },
  "language_info": {
   "codemirror_mode": {
    "name": "ipython",
    "version": 3
   },
   "file_extension": ".py",
   "mimetype": "text/x-python",
   "name": "python",
   "nbconvert_exporter": "python",
   "pygments_lexer": "ipython3",
   "version": "3.10.9"
  },
  "orig_nbformat": 4
 },
 "nbformat": 4,
 "nbformat_minor": 2
}

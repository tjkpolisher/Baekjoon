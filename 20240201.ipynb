{
 "cells": [
  {
   "cell_type": "code",
   "execution_count": 3,
   "metadata": {},
   "outputs": [
    {
     "name": "stdout",
     "output_type": "stream",
     "text": [
      "1\n",
      "2\n"
     ]
    }
   ],
   "source": [
    "# 25494: 단순한 문제 (Small)\n",
    "## 1. T 입력\n",
    "## 2. [반복문]\n",
    "## 2-1. a, b, c 입력\n",
    "## 2-2. 1부터 a, b, c까지 x, y, z를 나누고 (x % y) = (y % z) = (z % x)를 만족하는 순서쌍 저장\n",
    "## 3. 순서쌍의 개수 출력\n",
    "T = int(input())\n",
    "for _ in range(T):\n",
    "    ans = 0\n",
    "    a, b, c = map(int, input().split())\n",
    "    for x in range(1, a + 1):\n",
    "        for y in range(x, b + 1):\n",
    "            for z in range(y, c + 1):\n",
    "                if x % y == y % z and y % z == z % x:\n",
    "                    ans += 1\n",
    "    print(ans)"
   ]
  },
  {
   "cell_type": "code",
   "execution_count": null,
   "metadata": {},
   "outputs": [],
   "source": []
  }
 ],
 "metadata": {
  "kernelspec": {
   "display_name": "base",
   "language": "python",
   "name": "python3"
  },
  "language_info": {
   "codemirror_mode": {
    "name": "ipython",
    "version": 3
   },
   "file_extension": ".py",
   "mimetype": "text/x-python",
   "name": "python",
   "nbconvert_exporter": "python",
   "pygments_lexer": "ipython3",
   "version": "3.9.13"
  }
 },
 "nbformat": 4,
 "nbformat_minor": 2
}

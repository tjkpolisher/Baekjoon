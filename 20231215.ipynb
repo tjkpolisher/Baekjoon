{
 "cells": [
  {
   "cell_type": "code",
   "execution_count": 4,
   "metadata": {},
   "outputs": [
    {
     "name": "stdout",
     "output_type": "stream",
     "text": [
      "354224848179261915075\n"
     ]
    }
   ],
   "source": [
    "# 4150: 피보나치 수\n",
    "# 특이사항: 다국어(영어)(한국어 번역)\n",
    "n = int(input())\n",
    "f = []\n",
    "for i in range(n):\n",
    "    if i == 0 or i == 1:\n",
    "        f.append(1)\n",
    "    else:\n",
    "        f_element = f[i - 2] + f[i - 1]\n",
    "        f.append(f_element)\n",
    "print(f[-1])"
   ]
  },
  {
   "cell_type": "code",
   "execution_count": 5,
   "metadata": {},
   "outputs": [
    {
     "name": "stdout",
     "output_type": "stream",
     "text": [
      "Powdered Toast Man\n",
      "Skeletor\n",
      "Electra Woman and Dyna Girl\n",
      "She-Ra Princess of power\n",
      "Darth Vader\n"
     ]
    }
   ],
   "source": [
    "# 4458: 첫 글자를 대문자로\n",
    "N = int(input())\n",
    "for i in range(N):\n",
    "    line = input()\n",
    "    first = line[0].upper()\n",
    "    print(first + line[1:])"
   ]
  },
  {
   "cell_type": "code",
   "execution_count": 13,
   "metadata": {},
   "outputs": [
    {
     "name": "stdout",
     "output_type": "stream",
     "text": [
      "120\n"
     ]
    }
   ],
   "source": [
    "# 2851: 슈퍼 마리오\n",
    "# 특이사항: 다국어(영어)(한국어 번역)\n",
    "scores = []\n",
    "for _ in range(10):\n",
    "    n = int(input())\n",
    "    scores.append(n)\n",
    "\n",
    "opt = 0\n",
    "for i in range(10):\n",
    "    s = sum(scores[:i+1])\n",
    "    if abs(100 - s) < abs(100 - opt) or (abs(100 - s) == abs(100 - opt) and s > opt):\n",
    "        opt = s\n",
    "print(opt)"
   ]
  },
  {
   "cell_type": "code",
   "execution_count": null,
   "metadata": {},
   "outputs": [],
   "source": []
  }
 ],
 "metadata": {
  "kernelspec": {
   "display_name": "base",
   "language": "python",
   "name": "python3"
  },
  "language_info": {
   "codemirror_mode": {
    "name": "ipython",
    "version": 3
   },
   "file_extension": ".py",
   "mimetype": "text/x-python",
   "name": "python",
   "nbconvert_exporter": "python",
   "pygments_lexer": "ipython3",
   "version": "3.9.13"
  }
 },
 "nbformat": 4,
 "nbformat_minor": 2
}

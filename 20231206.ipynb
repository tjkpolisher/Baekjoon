{
 "cells": [
  {
   "cell_type": "code",
   "execution_count": 3,
   "metadata": {},
   "outputs": [
    {
     "name": "stdout",
     "output_type": "stream",
     "text": [
      "158\n",
      "1984\n",
      "-47\n",
      "4\n"
     ]
    }
   ],
   "source": [
    "# 1864: 문어 숫자\n",
    "# 특이사항: 다국어\n",
    "# 출처: ICPC > Regionals > South Pacific > South Pacific Region > New Zealand Programming Contest > NZPC 2006 H번\n",
    "\n",
    "while True:\n",
    "    octopus = list(input())[::-1]\n",
    "    if octopus == [\"#\"]:\n",
    "        break\n",
    "    \n",
    "    octo_dict = {\"-\":0, \"\\\\\":1, \"(\":2,\n",
    "                 \"@\":3, \"?\":4, \">\":5,\n",
    "                 \"&\":6, \"%\":7, \"/\":-1}\n",
    "    answer = 0\n",
    "    for i in range(len(octopus)):\n",
    "        answer += octo_dict[octopus[i]] * 8 ** i\n",
    "    print(answer)"
   ]
  },
  {
   "cell_type": "code",
   "execution_count": null,
   "metadata": {},
   "outputs": [],
   "source": [
    "# 1871: 좋은 자동차 번호판\n",
    "# 특이사항: 다국어 (영어)(번역됨)\n",
    "\n",
    "N = int(input())\n",
    "for i in range(N):\n",
    "    num_plate = list(input().split(\"-\"))\n",
    "    "
   ]
  }
 ],
 "metadata": {
  "kernelspec": {
   "display_name": "base",
   "language": "python",
   "name": "python3"
  },
  "language_info": {
   "codemirror_mode": {
    "name": "ipython",
    "version": 3
   },
   "file_extension": ".py",
   "mimetype": "text/x-python",
   "name": "python",
   "nbconvert_exporter": "python",
   "pygments_lexer": "ipython3",
   "version": "3.9.13"
  }
 },
 "nbformat": 4,
 "nbformat_minor": 2
}

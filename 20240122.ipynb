{
 "cells": [
  {
   "cell_type": "code",
   "execution_count": 5,
   "metadata": {},
   "outputs": [
    {
     "name": "stdout",
     "output_type": "stream",
     "text": [
      "4\n"
     ]
    }
   ],
   "source": [
    "# 28014: 첨탑 밀어서 부수기\n",
    "# 특이사항: 정답 비율 38.695%(2024년 1월 22일 22시 42분 기준)\n",
    "## 1. 첨탑의 개수 N 입력\n",
    "## 2. 첨탑의 높이 N개 입력\n",
    "## 3-1. 다음 첨탑의 높이가 현재 첨탑보다 낮으면 그대로 진행\n",
    "## 3-2. 높거나 같을 경우 다시 첨탑을 밀어 넘어뜨림\n",
    "## 4. 밀어야 하는 횟수 출력\n",
    "N = int(input())\n",
    "heights = list(map(int, input().split()))\n",
    "cnt = 1\n",
    "for i, h in enumerate(heights):\n",
    "    if i > 0 and h >= heights[i-1]:\n",
    "        cnt += 1\n",
    "print(cnt)"
   ]
  },
  {
   "cell_type": "code",
   "execution_count": null,
   "metadata": {},
   "outputs": [],
   "source": []
  }
 ],
 "metadata": {
  "kernelspec": {
   "display_name": "base",
   "language": "python",
   "name": "python3"
  },
  "language_info": {
   "codemirror_mode": {
    "name": "ipython",
    "version": 3
   },
   "file_extension": ".py",
   "mimetype": "text/x-python",
   "name": "python",
   "nbconvert_exporter": "python",
   "pygments_lexer": "ipython3",
   "version": "3.9.13"
  }
 },
 "nbformat": 4,
 "nbformat_minor": 2
}

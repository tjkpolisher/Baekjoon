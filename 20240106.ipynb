{
 "cells": [
  {
   "cell_type": "code",
   "execution_count": null,
   "metadata": {},
   "outputs": [],
   "source": [
    "# 1855: 암호\n",
    "## 1. 열의 개수 K 입력\n",
    "## 2. 암호화된 문자열 입력\n",
    "## 3. 문자열을 K개의 열에 배치(K / len(string)개의 행이 생성될 것)\n",
    "## 단, 왼쪽-오른쪽, 오른쪽-왼쪽 스네이크 식으로 읽어서 문자열이 생성되어 있음.\n",
    "## 3-1. 처음 K개의 글자를 원래 순서대로 1행에 배치,\n",
    "## 3-2. 다음 K개의 글자를 원래 순서에서 거꾸로 2행에 배치\n",
    "## 3-3. 모두 배치가 완료될 때까지 3-1, 3-2 반복\n",
    "## 4. 배치가 끝난 표를 열 방향으로 읽어들임.(1열 다 읽고 다음으로 2열 읽기, 반복)\n",
    "## 5. 정답 출력\n",
    "K = int(input())\n",
    "cipher = input()\n",
    "remnant = len(cipher) % K\n",
    "if remnant != 0:\n",
    "    cipher += '0' * remnant\n",
    "table = []\n",
    "for i in range(len(cipher) // K):\n",
    "    row = list(cipher[K * i: K * (i+1)])\n",
    "    if (i + 1) % 2 == 1:\n",
    "        table.append(row)\n",
    "    else:\n",
    "        table.append(row[::-1])\n",
    "answer = ''\n",
    "for i in range(K):\n",
    "    for j in range(len(table)):\n",
    "        answer += table[j][i]\n",
    "while '0' in answer:\n",
    "    answer.strip('0')\n",
    "print(answer)"
   ]
  },
  {
   "cell_type": "code",
   "execution_count": null,
   "metadata": {},
   "outputs": [],
   "source": [
    "# 1894: 4번째 점\n",
    "# 특이사항: 다국어(영어, 한국어 번역)\n",
    "\n",
    "## 1. 첫 번째 변의 양 끝점의 좌표와 두 번째 변의 양 끝점의 좌표 입력\n",
    "## 2. 두 번째 변의 기울기 구함\n",
    "## 3. 2에서 구한 기울기를 가지고 첫 번째 변의 첫 번째 끝점을 지나는 직선 찾기\n",
    "## 4. 직선의 방정식에 대입할 x, y의 변화량을 두 번째 변의 x, y좌표들을 이용해 구하기\n",
    "while True:\n",
    "    try:\n",
    "        locations = list(map(float, input().split()))\n",
    "        temps = [list(locations[2 * i: 2 * (i + 1)]) for i in range(4)]\n",
    "        for temp in temps:\n",
    "            if temps.count(temp) != 1:\n",
    "                adjacent = temp\n",
    "                break\n",
    "        \n",
    "        dots = [temp for temp in temps if temp != adjacent]\n",
    "        \n",
    "        dot1, dot2 = dots[0], dots[1]\n",
    "        delta_x, delta_y = dot2[0] - adjacent[0], dot2[1] - adjacent[1]\n",
    "        incline = delta_y / delta_x\n",
    "        x4, y4 = round(dot1[0] + delta_x, 3), round(dot1[1] + delta_y, 3)\n",
    "        print(f\"{x4:.3f} {y4:.3f}\")\n",
    "    except EOFError:\n",
    "        break"
   ]
  },
  {
   "cell_type": "code",
   "execution_count": null,
   "metadata": {},
   "outputs": [],
   "source": []
  }
 ],
 "metadata": {
  "kernelspec": {
   "display_name": "base",
   "language": "python",
   "name": "python3"
  },
  "language_info": {
   "codemirror_mode": {
    "name": "ipython",
    "version": 3
   },
   "file_extension": ".py",
   "mimetype": "text/x-python",
   "name": "python",
   "nbconvert_exporter": "python",
   "pygments_lexer": "ipython3",
   "version": "3.9.13"
  }
 },
 "nbformat": 4,
 "nbformat_minor": 2
}

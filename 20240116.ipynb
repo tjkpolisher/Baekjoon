{
 "cells": [
  {
   "cell_type": "code",
   "execution_count": 6,
   "metadata": {},
   "outputs": [
    {
     "name": "stdout",
     "output_type": "stream",
     "text": [
      "3\n"
     ]
    }
   ],
   "source": [
    "# 2596: 비밀편지\n",
    "## 1. 보낸 문자의 개수 입력\n",
    "## 2. 문자열 입력\n",
    "## 3. [반복문]\n",
    "## 3-1. 6글자씩 슬라이스\n",
    "## 3-2. 자른 글자가 미리 약속된 알파벳과 동일하거나 한 글자가 틀린 경우, 원래 보내려는 글자 출력\n",
    "## 3-3. 그렇지 않을 경우, 알아볼 수 없는 글자가 처음 나오는 문자의 위치 출력(1부터 시작)\n",
    "n = int(input())\n",
    "message = input()\n",
    "answer = ''\n",
    "code_table = {'000000':'A', '001111':'B', '010011':'C', '011100':'D',\n",
    "              '100110':'E', '101001':'F', '110101':'G', '111010':'H'}\n",
    "for i in range(n):\n",
    "    char = message[6 * i: 6 * (i + 1)]\n",
    "    if char in code_table.keys():\n",
    "        answer += code_table[char]\n",
    "    else:\n",
    "        for code in code_table.keys():\n",
    "            counter = 0 # 틀린 글자의 개수 (2개 이상이면 루프 탈출 후 위치 출력)\n",
    "            for j, c in enumerate(char):\n",
    "                if code[j] != c:\n",
    "                    counter += 1\n",
    "            if counter == 1:\n",
    "                answer += code_table[code]\n",
    "                break\n",
    "        if counter >= 2:\n",
    "            answer = i + 1\n",
    "            break\n",
    "print(answer)"
   ]
  },
  {
   "cell_type": "code",
   "execution_count": null,
   "metadata": {},
   "outputs": [],
   "source": []
  }
 ],
 "metadata": {
  "kernelspec": {
   "display_name": "base",
   "language": "python",
   "name": "python3"
  },
  "language_info": {
   "codemirror_mode": {
    "name": "ipython",
    "version": 3
   },
   "file_extension": ".py",
   "mimetype": "text/x-python",
   "name": "python",
   "nbconvert_exporter": "python",
   "pygments_lexer": "ipython3",
   "version": "3.9.13"
  }
 },
 "nbformat": 4,
 "nbformat_minor": 2
}

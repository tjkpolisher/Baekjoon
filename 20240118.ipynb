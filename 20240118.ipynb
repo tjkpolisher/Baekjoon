{
 "cells": [
  {
   "cell_type": "code",
   "execution_count": 1,
   "metadata": {},
   "outputs": [
    {
     "name": "stdout",
     "output_type": "stream",
     "text": [
      "8\n",
      "489\n",
      "931\n",
      "768\n"
     ]
    }
   ],
   "source": [
    "# 2693: N번째 큰 수\n",
    "# 특이사항: 다국어(영어)(한국어 번역)\n",
    "## 1. 테스트 케이스의 개수 T 입력\n",
    "## 2. [반복문]\n",
    "## 2-1. 배열의 원소 10개 입력\n",
    "## 2-2. 해당 배열의 원소에서 3번째로 큰 값 출력\n",
    "T = int(input())\n",
    "for _ in range(T):\n",
    "    A = list(map(int, input().split()))\n",
    "    A.sort()\n",
    "    print(A[-3])"
   ]
  },
  {
   "cell_type": "code",
   "execution_count": null,
   "metadata": {},
   "outputs": [],
   "source": []
  }
 ],
 "metadata": {
  "kernelspec": {
   "display_name": "base",
   "language": "python",
   "name": "python3"
  },
  "language_info": {
   "codemirror_mode": {
    "name": "ipython",
    "version": 3
   },
   "file_extension": ".py",
   "mimetype": "text/x-python",
   "name": "python",
   "nbconvert_exporter": "python",
   "pygments_lexer": "ipython3",
   "version": "3.9.13"
  }
 },
 "nbformat": 4,
 "nbformat_minor": 2
}

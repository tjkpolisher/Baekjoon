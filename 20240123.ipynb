{
 "cells": [
  {
   "cell_type": "code",
   "execution_count": 10,
   "metadata": {},
   "outputs": [
    {
     "name": "stdout",
     "output_type": "stream",
     "text": [
      "1\n"
     ]
    }
   ],
   "source": [
    "# 30018: 타슈\n",
    "## 1. 정수 N 입력\n",
    "## 2. 영업 전 각 대여소의 자전거 개수 입력\n",
    "## 3. 반납했을 때의 자전거 개수 입력\n",
    "## 4. 각 인덱스의 원소의 차에 절대값을 구함\n",
    "## 5. 절대값을 다 더한 후 2를 나눠서 출력\n",
    "N = int(input())\n",
    "initial = list(map(int, input().split()))\n",
    "final = list(map(int, input().split()))\n",
    "\n",
    "s = 0\n",
    "for i in range(N):\n",
    "    s += abs(initial[i] - final[i])\n",
    "print(int(s / 2))"
   ]
  },
  {
   "cell_type": "code",
   "execution_count": null,
   "metadata": {},
   "outputs": [],
   "source": []
  }
 ],
 "metadata": {
  "kernelspec": {
   "display_name": "base",
   "language": "python",
   "name": "python3"
  },
  "language_info": {
   "codemirror_mode": {
    "name": "ipython",
    "version": 3
   },
   "file_extension": ".py",
   "mimetype": "text/x-python",
   "name": "python",
   "nbconvert_exporter": "python",
   "pygments_lexer": "ipython3",
   "version": "3.9.13"
  }
 },
 "nbformat": 4,
 "nbformat_minor": 2
}

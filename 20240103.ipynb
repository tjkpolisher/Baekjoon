{
 "cells": [
  {
   "cell_type": "code",
   "execution_count": 16,
   "metadata": {},
   "outputs": [
    {
     "name": "stdout",
     "output_type": "stream",
     "text": [
      "4\n"
     ]
    }
   ],
   "source": [
    "# 1526: 가장 큰 금민수\n",
    "# 조건: 금민수: 어떤 수가 4와 7로만 이루어진 수\n",
    "## 1. N 입력\n",
    "## 2. 각 자릿수가 4와 7로만 구성된 배열 구성 (키워드: 중복순열)\n",
    "## 2-1. N의 자릿수까지만 구성(예를 들어, N이 세 자리 수일 경우 4부터 777까지만으로 구성)\n",
    "from itertools import product\n",
    "N = input()\n",
    "length = len(N)\n",
    "N = int(N)\n",
    "sets = ['4', '7']\n",
    "gold = [] # 금민수를 저장할 리스트\n",
    "for i in range(1, length + 1):\n",
    "    nums = product(sets, repeat=i)\n",
    "    for num in nums:\n",
    "        n = int(''.join(num))\n",
    "        gold.append(n)\n",
    "gold = [g for g in gold if g <= N]\n",
    "print(max(gold))"
   ]
  },
  {
   "cell_type": "code",
   "execution_count": 22,
   "metadata": {},
   "outputs": [
    {
     "name": "stdout",
     "output_type": "stream",
     "text": [
      "0,0,0,0,0\n"
     ]
    }
   ],
   "source": [
    "# 1551: 수열의 변화\n",
    "## 1. 수열의 크기 N, 반복 횟수 K 입력\n",
    "## 2. 수열 입력(쉼표 ','로 구분)\n",
    "## 3. [반복문]\n",
    "## 3-1. 인접한 두 원소의 차이를 이용해 새 수열 생성(B[i] = A[i+1] - A[i])\n",
    "N, K = map(int, input().split())\n",
    "seq = list(map(int, input().split(',')))\n",
    "for _ in range(K):\n",
    "    new_seq = []\n",
    "    for i in range(len(seq) - 1):\n",
    "        new_seq.append(seq[i + 1] - seq[i])\n",
    "    seq = new_seq\n",
    "for i in range(len(seq)):\n",
    "    if i == len(seq) - 1:\n",
    "        print(seq[i])\n",
    "    else:\n",
    "        print(seq[i], end=',')"
   ]
  },
  {
   "cell_type": "code",
   "execution_count": null,
   "metadata": {},
   "outputs": [],
   "source": []
  }
 ],
 "metadata": {
  "kernelspec": {
   "display_name": "base",
   "language": "python",
   "name": "python3"
  },
  "language_info": {
   "codemirror_mode": {
    "name": "ipython",
    "version": 3
   },
   "file_extension": ".py",
   "mimetype": "text/x-python",
   "name": "python",
   "nbconvert_exporter": "python",
   "pygments_lexer": "ipython3",
   "version": "3.9.13"
  }
 },
 "nbformat": 4,
 "nbformat_minor": 2
}

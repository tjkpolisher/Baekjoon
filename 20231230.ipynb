{
 "cells": [
  {
   "cell_type": "code",
   "execution_count": 16,
   "metadata": {},
   "outputs": [
    {
     "name": "stdout",
     "output_type": "stream",
     "text": [
      "p_ of YVXHOVE = 4\n",
      "p_ of LCOKO = 0\n",
      "p_ of OGWSJVEVEDLE = 0\n",
      "p_ of WGFVSJEL = 64\n",
      "p_ of VLOLUVCBLLQVESWHEEKC = 64\n",
      "VLOLUVCBLLQVESWHEEKC\n"
     ]
    }
   ],
   "source": [
    "# 1296: 팀 이름 정하기\n",
    "## 1. 영어 이름/팀 이름 후보의 개수 N/팀 이름 입력\n",
    "## 2. 연두의 영어 이름과 팀 이름에 있는 L, O, V, E의 개수 세기\n",
    "## 3. ((L+O) × (L+V) × (L+E) × (O+V) × (O+E) × (V+E)) % 100로 점수 계산(원문에는 mod로 표기됨)\n",
    "## 4. 우승할 확률이 이전 확률보다 높으면 확률 갱신, 이름 갱신\n",
    "## 4-1. 만약 확률이 동일할 경우 사전 순으로 가장 앞서는 팀 이름 채택\n",
    "name = input()\n",
    "love = list(\"LOVE\")\n",
    "counter_name = [name.count(love[i]) for i in range(4)]\n",
    "answer = '' # 채택된 팀 이름\n",
    "N = int(input())\n",
    "p = 0 # 우승할 확률\n",
    "for _ in range(N):\n",
    "    team = input()\n",
    "    counter = [counter_name[i] + team.count(love[i]) for i in range(4)]\n",
    "    l, o, v, e = counter[0], counter[1], counter[2], counter[3]\n",
    "    p_ = round(((l + o) * (l + v) * (l + e) * (o + v) * (o + e) * (v + e)) % 100, 5)\n",
    "    \n",
    "    if p < p_:\n",
    "        p = p_\n",
    "        answer = team\n",
    "    elif p == p_:\n",
    "        if not answer:\n",
    "            answer = team\n",
    "        elif answer > team:\n",
    "            # 팀 이름 후보가 기존 이름보다 사전에서 앞설 때\n",
    "            answer = team\n",
    "print(answer)"
   ]
  },
  {
   "cell_type": "code",
   "execution_count": 9,
   "metadata": {},
   "outputs": [
    {
     "data": {
      "text/plain": [
       "[1, 2, 1, 1]"
      ]
     },
     "execution_count": 9,
     "metadata": {},
     "output_type": "execute_result"
    }
   ],
   "source": [
    "[counter_name[i] + \"JACOB\".count(love[i]) for i in range(4)]"
   ]
  },
  {
   "cell_type": "code",
   "execution_count": 10,
   "metadata": {},
   "outputs": [
    {
     "data": {
      "text/plain": [
       "[1, 1, 1, 1]"
      ]
     },
     "execution_count": 10,
     "metadata": {},
     "output_type": "execute_result"
    }
   ],
   "source": [
    "[counter_name[i] + \"FRANK\".count(love[i]) for i in range(4)]"
   ]
  },
  {
   "cell_type": "code",
   "execution_count": 11,
   "metadata": {},
   "outputs": [
    {
     "data": {
      "text/plain": [
       "[1, 2, 1, 1]"
      ]
     },
     "execution_count": 11,
     "metadata": {},
     "output_type": "execute_result"
    }
   ],
   "source": [
    "[counter_name[i] + \"DANO\".count(love[i]) for i in range(4)]"
   ]
  },
  {
   "cell_type": "code",
   "execution_count": null,
   "metadata": {},
   "outputs": [],
   "source": []
  }
 ],
 "metadata": {
  "kernelspec": {
   "display_name": "base",
   "language": "python",
   "name": "python3"
  },
  "language_info": {
   "codemirror_mode": {
    "name": "ipython",
    "version": 3
   },
   "file_extension": ".py",
   "mimetype": "text/x-python",
   "name": "python",
   "nbconvert_exporter": "python",
   "pygments_lexer": "ipython3",
   "version": "3.9.13"
  }
 },
 "nbformat": 4,
 "nbformat_minor": 2
}

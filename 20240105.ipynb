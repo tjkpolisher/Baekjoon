{
 "cells": [
  {
   "cell_type": "code",
   "execution_count": 26,
   "metadata": {},
   "outputs": [
    {
     "name": "stdout",
     "output_type": "stream",
     "text": [
      "0\n"
     ]
    }
   ],
   "source": [
    "# 1813: 논리학 교수\n",
    "## 1. 항승이가 한 말의 개수 N 입력\n",
    "## 2. N개의 말에 들어있는 정수의 목록 입력\n",
    "## 3. 목록 내의 고유한 값들의 목록 추출\n",
    "## 4. 각 값들의 개수 세기\n",
    "## 5. 각 값 = 개수인 정수 선택\n",
    "N = int(input())\n",
    "ints = list(map(int, input().split()))\n",
    "\n",
    "true = -1\n",
    "for i in range(N + 1):\n",
    "    counter = ints.count(i)\n",
    "    if counter == i:\n",
    "        true = max(true, i)\n",
    "print(true)"
   ]
  },
  {
   "cell_type": "code",
   "execution_count": 13,
   "metadata": {},
   "outputs": [
    {
     "data": {
      "text/plain": [
       "[0, 1]"
      ]
     },
     "execution_count": 13,
     "metadata": {},
     "output_type": "execute_result"
    }
   ],
   "source": [
    "list(range(len(ints)))"
   ]
  },
  {
   "cell_type": "code",
   "execution_count": null,
   "metadata": {},
   "outputs": [],
   "source": []
  }
 ],
 "metadata": {
  "kernelspec": {
   "display_name": "base",
   "language": "python",
   "name": "python3"
  },
  "language_info": {
   "codemirror_mode": {
    "name": "ipython",
    "version": 3
   },
   "file_extension": ".py",
   "mimetype": "text/x-python",
   "name": "python",
   "nbconvert_exporter": "python",
   "pygments_lexer": "ipython3",
   "version": "3.9.13"
  }
 },
 "nbformat": 4,
 "nbformat_minor": 2
}

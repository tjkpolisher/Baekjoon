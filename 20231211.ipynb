{
 "cells": [
  {
   "cell_type": "code",
   "execution_count": 3,
   "metadata": {},
   "outputs": [
    {
     "name": "stdout",
     "output_type": "stream",
     "text": [
      "YES\n",
      "NO\n",
      "NO\n"
     ]
    }
   ],
   "source": [
    "# 1816: 암호 키\n",
    "N = int(input())\n",
    "for i in range(N):\n",
    "    S = int(input())\n",
    "    factors = []\n",
    "    j = 2\n",
    "    answer = \"YES\"\n",
    "    while j <= 10**6:\n",
    "        if S % j == 0:\n",
    "            if j <= 10**6:\n",
    "                answer = \"NO\"\n",
    "                break\n",
    "        else:\n",
    "            j += 1\n",
    "    \n",
    "    print(answer)"
   ]
  },
  {
   "cell_type": "code",
   "execution_count": null,
   "metadata": {},
   "outputs": [],
   "source": []
  }
 ],
 "metadata": {
  "kernelspec": {
   "display_name": "base",
   "language": "python",
   "name": "python3"
  },
  "language_info": {
   "codemirror_mode": {
    "name": "ipython",
    "version": 3
   },
   "file_extension": ".py",
   "mimetype": "text/x-python",
   "name": "python",
   "nbconvert_exporter": "python",
   "pygments_lexer": "ipython3",
   "version": "3.9.13"
  }
 },
 "nbformat": 4,
 "nbformat_minor": 2
}

{
 "cells": [
  {
   "cell_type": "code",
   "execution_count": 3,
   "metadata": {},
   "outputs": [
    {
     "name": "stdout",
     "output_type": "stream",
     "text": [
      "YES\n",
      "NO\n",
      "NO\n"
     ]
    }
   ],
   "source": [
    "# 1816: 암호 키\n",
    "N = int(input())\n",
    "for i in range(N):\n",
    "    S = int(input())\n",
    "    factors = []\n",
    "    j = 2\n",
    "    answer = \"YES\"\n",
    "    while j <= 10**6:\n",
    "        if S % j == 0:\n",
    "            if j <= 10**6:\n",
    "                answer = \"NO\"\n",
    "                break\n",
    "        else:\n",
    "            j += 1\n",
    "    \n",
    "    print(answer)"
   ]
  },
  {
   "cell_type": "code",
   "execution_count": 5,
   "metadata": {},
   "outputs": [
    {
     "name": "stdout",
     "output_type": "stream",
     "text": [
      "45000\n",
      "30\n",
      "221\n"
     ]
    }
   ],
   "source": [
    "# 1934: 최소공배수\n",
    "from math import gcd\n",
    "T = int(input())\n",
    "for _ in range(T):\n",
    "    A, B = map(int, input().split())\n",
    "    g = gcd(A, B)\n",
    "    print(A * B // g)"
   ]
  },
  {
   "cell_type": "code",
   "execution_count": 8,
   "metadata": {},
   "outputs": [
    {
     "name": "stdout",
     "output_type": "stream",
     "text": [
      "8\n"
     ]
    }
   ],
   "source": [
    "# 2163: 초콜릿 자르기\n",
    "N, M = map(int, input().split())\n",
    "print(N * M - 1)"
   ]
  },
  {
   "cell_type": "code",
   "execution_count": 25,
   "metadata": {},
   "outputs": [
    {
     "name": "stdout",
     "output_type": "stream",
     "text": [
      "1 3\n"
     ]
    }
   ],
   "source": [
    "# 30502: 미역은 식물 아닌데요\n",
    "## 식물은 광합성이 가능하고 이동성이 없음\n",
    "## 즉, 'P'==1, 'M'==0\n",
    "N, M = map(int, input().split())\n",
    "creatures = dict()\n",
    "plant_min = 0\n",
    "plant_max = 0\n",
    "\n",
    "for _ in range(M):\n",
    "    a, b, c = input().split()\n",
    "    a, c = map(int, (a, c))\n",
    "    if a not in creatures:\n",
    "        creatures[a] = {'P': -1, 'M': -1}\n",
    "    creatures[a][b] = c\n",
    "\n",
    "for c in creatures.values():\n",
    "    if c['P'] == 1 and c['M'] == 0:\n",
    "        plant_min += 1\n",
    "        plant_max += 1\n",
    "    elif c['P'] == 0 or c['M'] == 1:\n",
    "        pass\n",
    "    else:\n",
    "        plant_max += 1\n",
    "\n",
    "plant_max += (N - len(creatures))\n",
    "\n",
    "print(plant_min, plant_max)"
   ]
  },
  {
   "cell_type": "code",
   "execution_count": null,
   "metadata": {},
   "outputs": [],
   "source": []
  }
 ],
 "metadata": {
  "kernelspec": {
   "display_name": "base",
   "language": "python",
   "name": "python3"
  },
  "language_info": {
   "codemirror_mode": {
    "name": "ipython",
    "version": 3
   },
   "file_extension": ".py",
   "mimetype": "text/x-python",
   "name": "python",
   "nbconvert_exporter": "python",
   "pygments_lexer": "ipython3",
   "version": "3.9.13"
  }
 },
 "nbformat": 4,
 "nbformat_minor": 2
}

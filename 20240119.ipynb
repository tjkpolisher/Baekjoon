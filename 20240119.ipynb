{
 "cells": [
  {
   "cell_type": "code",
   "execution_count": 3,
   "metadata": {},
   "outputs": [
    {
     "name": "stdout",
     "output_type": "stream",
     "text": [
      "1597\n"
     ]
    }
   ],
   "source": [
    "# 2748: 피보나치 수 2\n",
    "# 특이사항: 다국어(영어)(한국어 번역)\n",
    "## 1. n 입력\n",
    "## 2. 0, 1부터 시작해 피보나치 수열 계산\n",
    "## 3. n번째 피보나치 수 출력\n",
    "n = int(input())\n",
    "a, b = 0, 1\n",
    "for _ in range(n - 1):\n",
    "    c = a + b\n",
    "    a, b = b, c\n",
    "print(b)"
   ]
  },
  {
   "cell_type": "code",
   "execution_count": null,
   "metadata": {},
   "outputs": [],
   "source": []
  }
 ],
 "metadata": {
  "kernelspec": {
   "display_name": "base",
   "language": "python",
   "name": "python3"
  },
  "language_info": {
   "codemirror_mode": {
    "name": "ipython",
    "version": 3
   },
   "file_extension": ".py",
   "mimetype": "text/x-python",
   "name": "python",
   "nbconvert_exporter": "python",
   "pygments_lexer": "ipython3",
   "version": "3.9.13"
  }
 },
 "nbformat": 4,
 "nbformat_minor": 2
}

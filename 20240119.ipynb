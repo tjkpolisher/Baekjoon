{
 "cells": [
  {
   "cell_type": "code",
   "execution_count": 3,
   "metadata": {},
   "outputs": [
    {
     "name": "stdout",
     "output_type": "stream",
     "text": [
      "1597\n"
     ]
    }
   ],
   "source": [
    "# 2748: 피보나치 수 2\n",
    "# 특이사항: 다국어(영어)(한국어 번역)\n",
    "## 1. n 입력\n",
    "## 2. 0, 1부터 시작해 피보나치 수열 계산\n",
    "## 3. n번째 피보나치 수 출력\n",
    "n = int(input())\n",
    "a, b = 0, 1\n",
    "for _ in range(n - 1):\n",
    "    c = a + b\n",
    "    a, b = b, c\n",
    "print(b)"
   ]
  },
  {
   "cell_type": "code",
   "execution_count": 2,
   "metadata": {},
   "outputs": [
    {
     "name": "stdout",
     "output_type": "stream",
     "text": [
      "-1\n"
     ]
    }
   ],
   "source": [
    "# 10162: 전자레인지\n",
    "# 특이사항: 서브태스크(시간 제한. 세 문제가 각각 60초, 300초, 10000초 이하일 때 30점, 30점, 40점 부여)\n",
    "## 1. 요리시간 T 입력\n",
    "## 2. 버튼 A, B, C를 입력해 5분, 1분, 10초를 부여\n",
    "## 3. T를 5분(=300초)로 나누기\n",
    "## 4. 나눈 나머지를 1분(=60초로) 나누기\n",
    "## 5. 나눈 나머지를 10초로 나누기\n",
    "## 6-1. 정확히 나누어 떨어지면 A, B, C를 출력\n",
    "## 6-2. 나누어 떨어지지 않으면 -1을 출력\n",
    "T = int(input())\n",
    "A, r = divmod(T, 300)\n",
    "B, r = divmod(r, 60)\n",
    "C, r = divmod(r, 10)\n",
    "if r != 0:\n",
    "    print(-1)\n",
    "else:\n",
    "    print(A, B, C)"
   ]
  },
  {
   "cell_type": "code",
   "execution_count": null,
   "metadata": {},
   "outputs": [],
   "source": []
  }
 ],
 "metadata": {
  "kernelspec": {
   "display_name": "base",
   "language": "python",
   "name": "python3"
  },
  "language_info": {
   "codemirror_mode": {
    "name": "ipython",
    "version": 3
   },
   "file_extension": ".py",
   "mimetype": "text/x-python",
   "name": "python",
   "nbconvert_exporter": "python",
   "pygments_lexer": "ipython3",
   "version": "3.9.13"
  }
 },
 "nbformat": 4,
 "nbformat_minor": 2
}
